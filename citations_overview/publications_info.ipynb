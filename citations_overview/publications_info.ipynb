{
 "cells": [
  {
   "cell_type": "code",
   "execution_count": null,
   "metadata": {},
   "outputs": [],
   "source": [
    "import os\n",
    "import requests\n",
    "import json\n",
    "import csv\n",
    "import pandas as pd\n",
    "from time import sleep\n",
    "from dotenv import load_dotenv\n",
    "load_dotenv()\n",
    "import numpy as np"
   ]
  },
  {
   "cell_type": "code",
   "execution_count": null,
   "metadata": {},
   "outputs": [],
   "source": [
    "from pybliometrics.scopus import CitationOverview, AuthorRetrieval, AbstractRetrieval\n",
    "\n",
    "\n",
    "#to confirm API key used\n",
    "from pybliometrics.scopus import config\n",
    "#print(config['Authentication']['APIKey']) "
   ]
  },
  {
   "cell_type": "code",
   "execution_count": null,
   "metadata": {},
   "outputs": [],
   "source": [
    "PATH_TO_INPUT_CSV = \"output.csv\"\n",
    "PUBLICATION_CUTOFF_YEAR = 2013 #only publications DURING and AFTER this year will be counted\n",
    "START_YEAR = 2018\n",
    "END_YEAR = 2023\n",
    "YEARS_INCLUDED = END_YEAR - START_YEAR + 1 #year range count, inclusive"
   ]
  },
  {
   "cell_type": "code",
   "execution_count": null,
   "metadata": {},
   "outputs": [],
   "source": [
    "member_arr = []\n",
    "with open(PATH_TO_INPUT_CSV, \"r\") as f:\n",
    "    r = csv.reader(f)\n",
    "    for row in r:\n",
    "        if row[0] != \"\":\n",
    "            member_arr.append(row)\n",
    "\n",
    "# skip header rows\n",
    "member_arr = member_arr[1:]"
   ]
  },
  {
   "cell_type": "code",
   "execution_count": null,
   "metadata": {},
   "outputs": [],
   "source": [
    "# prepare columns \n",
    "output_cols = [\"title\", \"eid\", \"publication year\", \"authors\", \"last name\", \"first name\", \"member id\", \"citations\"]\n",
    "\n",
    "output_dict = {f\"{output_cols[i]}\" for i in output_cols}\n",
    "\n",
    "titles = []\n",
    "eids = []\n",
    "publication_years = []\n",
    "articles_authors = []\n",
    "\n",
    "member_lastnames = []\n",
    "member_firstnames = []\n",
    "member_ids = []\n",
    "member_irps = []\n",
    "\n",
    "all_citations = []"
   ]
  },
  {
   "cell_type": "code",
   "execution_count": null,
   "metadata": {},
   "outputs": [],
   "source": [
    "def fill_article_rows(lastname, firstname, mem_id, documents):\n",
    "    for document in documents:\n",
    "        titles.append(document.title)\n",
    "        eids.append(document.eid)\n",
    "        articles_authors.append(document.author_names)\n",
    "        publication_years.append(document.coverDate.split(\"-\")[0])\n",
    "        member_lastnames.append(lastname)\n",
    "        member_firstnames.append(firstname)\n",
    "        member_ids.append(mem_id)"
   ]
  },
  {
   "cell_type": "code",
   "execution_count": null,
   "metadata": {},
   "outputs": [],
   "source": [
    "def get_all_citations(documents):\n",
    "    '''return yearly citation data for the documents'''\n",
    "    yearly_citations_data = []\n",
    "\n",
    "    #scopus ID is everything after 2nd hyphen for the eid\n",
    "    scopus_id_list = [document.eid.split(\"-\",2)[2] for document in documents]\n",
    "    print(scopus_id_list)\n",
    "\n",
    "    pages = int(len(documents)/25)\n",
    "    \n",
    "    if pages == 0:\n",
    "        print(f\"gathering citations\")\n",
    "        co = CitationOverview(scopus_id_list, start=START_YEAR, end=END_YEAR)\n",
    "        yearly_citations_data = co.cc\n",
    "    elif len(documents)%25 == 0:\n",
    "        urls = []\n",
    "        for page in range(pages):\n",
    "            print(f\"gathering citations for page {page}/{pages-1}\")\n",
    "            list_per_page = scopus_id_list[(25*page):(25*(page+1))]\n",
    "            co = CitationOverview(list_per_page, start=START_YEAR, end=END_YEAR)\n",
    "            yearly_citations_data = yearly_citations_data + co.cc\n",
    "            urls = urls + co.url\n",
    "    else:\n",
    "        urls = []\n",
    "        for page in range(pages+1):\n",
    "            print(f\"gathering citations for page {page}/{pages}\")\n",
    "            list_per_page = scopus_id_list[(25*page):(25*(page+1))]\n",
    "            co = CitationOverview(list_per_page, start=START_YEAR, end=END_YEAR)\n",
    "            yearly_citations_data = yearly_citations_data + co.cc\n",
    "            urls = urls + co.url\n",
    "        \n",
    "    return yearly_citations_data"
   ]
  },
  {
   "cell_type": "code",
   "execution_count": null,
   "metadata": {},
   "outputs": [],
   "source": [
    "titles = []\n",
    "eids = []\n",
    "# scopus_urls = []\n",
    "api_urls = []\n",
    "publication_years = []\n",
    "articles_authors = []\n",
    "\n",
    "member_lastnames = []\n",
    "member_firstnames = []\n",
    "member_ids = []\n",
    "\n",
    "all_citations = []\n",
    "\n",
    "for member in member_arr:\n",
    "    sleep(1)\n",
    "    lastname = member[0]\n",
    "    firstname = member[1]\n",
    "    mem_id = member[3]\n",
    "\n",
    "    print(f\"looking up {firstname} {lastname} ({mem_id})...\")\n",
    "\n",
    "    documents = AuthorRetrieval(mem_id).get_documents()\n",
    "\n",
    "    #get documents that are older than PUBLICATION CUTOFF YEAR\n",
    "    adjusted_docs = [document for document in documents if int(document.coverDate.split(\"-\")[0]) >= PUBLICATION_CUTOFF_YEAR]\n",
    "\n",
    "    print(f\"found {len(adjusted_docs)} publications between {PUBLICATION_CUTOFF_YEAR} and now\")\n",
    "    \n",
    "    if len(adjusted_docs) == 0:\n",
    "        print(\"no documents found in year range\")\n",
    "        pass\n",
    "    else:\n",
    "        citations_data = get_all_citations(adjusted_docs, all_citations)\n",
    "        author_citations = [[citation[year][1] for year in range(YEARS_INCLUDED)] for citation in citations_data]\n",
    "        all_citations = all_citations + author_citations\n",
    "\n",
    "        fill_article_rows(lastname, firstname, mem_id, adjusted_docs)\n",
    "        print(\"done\\n\")"
   ]
  },
  {
   "cell_type": "code",
   "execution_count": null,
   "metadata": {},
   "outputs": [],
   "source": []
  },
  {
   "cell_type": "code",
   "execution_count": null,
   "metadata": {},
   "outputs": [],
   "source": [
    "print(api_urls)\n",
    "#  https://api.elsevier.com/content/abstract/scopus_id/"
   ]
  },
  {
   "cell_type": "code",
   "execution_count": null,
   "metadata": {},
   "outputs": [],
   "source": [
    "csv_dict = {\n",
    "    \"title\": titles,\n",
    "    \"eid\": eids,\n",
    "    \"publication year\": publication_years,\n",
    "    \"authors\": articles_authors,\n",
    "    \n",
    "    \"last name\": member_lastnames,\n",
    "    \"first name\": member_firstnames,\n",
    "    \"member id\": member_ids, \n",
    "}\n",
    "\n",
    "citations_array = np.array(all_citations)\n",
    "citations_array = citations_array.T\n",
    "\n",
    "for key in csv_dict:\n",
    "    print(f\"{key}: {len(csv_dict[key])}\")\n",
    "\n",
    "for year in range(YEARS_INCLUDED):\n",
    "    year_col = START_YEAR + year\n",
    "    print(year_col)\n",
    "    csv_dict[str(year_col)] = citations_array[year].tolist()\n",
    "\n",
    "for key in csv_dict:\n",
    "    print(f\"{key}: {len(csv_dict[key])}\")\n",
    "\n",
    "df = pd.DataFrame(csv_dict)\n",
    "df.to_csv(\"citations_per_year_psychiatry.csv\")"
   ]
  },
  {
   "cell_type": "code",
   "execution_count": null,
   "metadata": {},
   "outputs": [],
   "source": [
    "documents = AuthorRetrieval(36653563400).get_documents()\n",
    "docs_eids = AuthorRetrieval(36653563400).get_document_eids()\n",
    "# for document in documents:\n",
    "    "
   ]
  },
  {
   "cell_type": "code",
   "execution_count": null,
   "metadata": {},
   "outputs": [],
   "source": [
    "#print(docs_eids)\n",
    "for document in documents:\n",
    "    print(document.coverDate)\n",
    "\n",
    "adjusted_docs = [document for document in documents if int(document.coverDate.split(\"-\")[0]) >= PUBLICATION_CUTOFF_YEAR]\n",
    "print(adjusted_docs)\n",
    "scopus_id_list = [eid.split(\"-\",2)[2] for eid in docs_eids]\n",
    "print(scopus_id_list)"
   ]
  },
  {
   "cell_type": "code",
   "execution_count": null,
   "metadata": {},
   "outputs": [],
   "source": [
    "print()"
   ]
  },
  {
   "cell_type": "code",
   "execution_count": null,
   "metadata": {},
   "outputs": [],
   "source": [
    "co = CitationOverview(scopus_id_list[0:25], start=2018, end=2023)"
   ]
  },
  {
   "cell_type": "code",
   "execution_count": null,
   "metadata": {},
   "outputs": [],
   "source": [
    "article_yeardata = co.cc"
   ]
  },
  {
   "cell_type": "code",
   "execution_count": null,
   "metadata": {},
   "outputs": [],
   "source": [
    "co2 = CitationOverview(scopus_id_list[25:], start=2018, end=2023)\n",
    "print(co2.cc)"
   ]
  },
  {
   "cell_type": "code",
   "execution_count": null,
   "metadata": {},
   "outputs": [],
   "source": [
    "all_citations = co.cc + co2.cc\n",
    "#print(len(documents))\n",
    "#print(documents[25:50])\n",
    "#print(len(documents[25:50]))\n",
    "print(all_citations[0])\n",
    "print(all_citations[0][5][1])\n",
    "print(YEARS_INCLUDED)\n",
    "print([[citation[year][1] for year in range(YEARS_INCLUDED)] for citation in all_citations])\n",
    "\n",
    "print(len([[[citation[year][1]] for year in range(YEARS_INCLUDED)] for citation in all_citations]))"
   ]
  },
  {
   "cell_type": "code",
   "execution_count": null,
   "metadata": {},
   "outputs": [],
   "source": [
    "citation_test = np.array([[citation[year][1] for year in range(YEARS_INCLUDED)] for citation in all_citations])\n",
    "print(citation_test.T)\n",
    "dict = {\"a\":0}\n",
    "dict[f\"{START_YEAR}\"] = citation_test[0].tolist()\n",
    "print(dict)"
   ]
  },
  {
   "cell_type": "code",
   "execution_count": null,
   "metadata": {},
   "outputs": [],
   "source": [
    "API_KEY = os.getenv(\"OFFICIAL_API_KEY\")\n",
    "API_COUNT = 25\n",
    "header = {\n",
    "    \"X-ELS-APIKey\": API_KEY,\n",
    "}\n",
    "api_url = \"https://api.elsevier.com/content/search/scopus?\"\n",
    "\n",
    "def get_api_json(query: str, start=0):\n",
    "    params = {\n",
    "        \"query\":query,\n",
    "    }\n",
    "    try:\n",
    "        response = requests.get(url=api_url, params=params, headers=header)\n",
    "        response.raise_for_status\n",
    "        data = json.loads(response.text)\n",
    "    except requests.exceptions.HTTPError as e:\n",
    "        print(\"HTTPS error: \", e)\n",
    "    except requests.exceptions.RetryError as e:\n",
    "        print(\"Max retries exceeded: \", e)\n",
    "    return data"
   ]
  },
  {
   "cell_type": "code",
   "execution_count": null,
   "metadata": {},
   "outputs": [],
   "source": [
    "query = f\"au-id(36653563400)\"\n",
    "data = get_api_json(query, start=0)\n",
    "print(data)"
   ]
  },
  {
   "cell_type": "code",
   "execution_count": null,
   "metadata": {},
   "outputs": [],
   "source": [
    "query = f\"au-id(36653563400)\"\n",
    "data = get_api_json(query, start=0)\n",
    "print(data)"
   ]
  },
  {
   "cell_type": "code",
   "execution_count": null,
   "metadata": {},
   "outputs": [],
   "source": [
    "data_str = json.dumps(data[\"search-results\"][\"entry\"][0], indent=4)\n",
    "print(data_str)"
   ]
  }
 ],
 "metadata": {
  "kernelspec": {
   "display_name": "authorlookup",
   "language": "python",
   "name": "python3"
  },
  "language_info": {
   "codemirror_mode": {
    "name": "ipython",
    "version": 3
   },
   "file_extension": ".py",
   "mimetype": "text/x-python",
   "name": "python",
   "nbconvert_exporter": "python",
   "pygments_lexer": "ipython3",
   "version": "3.10.12"
  },
  "orig_nbformat": 4
 },
 "nbformat": 4,
 "nbformat_minor": 2
}
