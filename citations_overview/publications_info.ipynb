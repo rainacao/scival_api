{
 "cells": [
  {
   "cell_type": "code",
   "execution_count": 18,
   "metadata": {},
   "outputs": [],
   "source": [
    "import os\n",
    "import requests\n",
    "import json\n",
    "import csv\n",
    "import pandas as pd\n",
    "from time import sleep\n",
    "from dotenv import load_dotenv\n",
    "load_dotenv()\n",
    "import numpy as np"
   ]
  },
  {
   "cell_type": "code",
   "execution_count": 45,
   "metadata": {},
   "outputs": [
    {
     "name": "stdout",
     "output_type": "stream",
     "text": [
      "2e5922c95a0e4f1fb73cede25eca779a\n"
     ]
    }
   ],
   "source": [
    "from pybliometrics.scopus import CitationOverview, AuthorRetrieval, AbstractRetrieval\n",
    "\n",
    "\n",
    "#to confirm API key used\n",
    "from pybliometrics.scopus import config\n",
    "#print(config['Authentication']['APIKey']) \n",
    "config['Authentication']['APIKey'] = \"2e5922c95a0e4f1fb73cede25eca779a\"\n",
    "print(config['Authentication']['APIKey'])"
   ]
  },
  {
   "cell_type": "code",
   "execution_count": 20,
   "metadata": {},
   "outputs": [],
   "source": [
    "PATH_TO_INPUT_CSV = \"in/filtered_psych_data.csv\"\n",
    "PUBLICATION_CUTOFF_YEAR = 2013 #only publications DURING and AFTER this year will be counted\n",
    "START_YEAR = 2018\n",
    "END_YEAR = 2023\n",
    "YEARS_INCLUDED = END_YEAR - START_YEAR + 1 #year range count, inclusive"
   ]
  },
  {
   "cell_type": "code",
   "execution_count": 21,
   "metadata": {},
   "outputs": [],
   "source": [
    "member_arr = []\n",
    "with open(PATH_TO_INPUT_CSV, \"r\") as f:\n",
    "    r = csv.reader(f)\n",
    "    for row in r:\n",
    "        if row[0] != \"\":\n",
    "            member_arr.append(row)\n",
    "\n",
    "# skip header rows\n",
    "member_arr = member_arr[1:]"
   ]
  },
  {
   "cell_type": "code",
   "execution_count": 46,
   "metadata": {},
   "outputs": [],
   "source": [
    "# prepare columns \n",
    "output_cols = [\"title\", \"eid\", \"publication year\", \"authors\", \"last name\", \"first name\", \"member id\"]\n",
    "\n",
    "titles = []\n",
    "eids = []\n",
    "publication_years = []\n",
    "articles_authors = []\n",
    "\n",
    "member_lastnames = []\n",
    "member_firstnames = []\n",
    "member_ids = []\n",
    "member_irps = []\n",
    "\n",
    "all_citations = []"
   ]
  },
  {
   "cell_type": "code",
   "execution_count": 23,
   "metadata": {},
   "outputs": [],
   "source": [
    "def get_all_citations(documents):\n",
    "    '''return yearly citation data for all documents in a 2d array with rows of documents and cols of years'''\n",
    "    yearly_citations_data = []\n",
    "\n",
    "    #scopus ID is everything after 2nd hyphen for the eid\n",
    "    scopus_id_list = [document.eid.split(\"-\",2)[2] for document in documents]\n",
    "    print(scopus_id_list)\n",
    "\n",
    "    pages = int(len(documents)/25)\n",
    "    \n",
    "    if pages == 0:\n",
    "        print(f\"gathering citations\")\n",
    "        co = CitationOverview(scopus_id_list, start=START_YEAR, end=END_YEAR)\n",
    "        yearly_citations_data = co.cc\n",
    "    elif len(documents)%25 == 0:\n",
    "        # urls = []\n",
    "        for page in range(pages):\n",
    "            print(f\"gathering citations for page {page}/{pages-1}\")\n",
    "            list_per_page = scopus_id_list[(25*page):(25*(page+1))]\n",
    "            co = CitationOverview(list_per_page, start=START_YEAR, end=END_YEAR)\n",
    "            yearly_citations_data = yearly_citations_data + co.cc\n",
    "            # urls = urls + co.url\n",
    "    else:\n",
    "        # urls = []\n",
    "        for page in range(pages+1):\n",
    "            print(f\"gathering citations for page {page}/{pages}\")\n",
    "            list_per_page = scopus_id_list[(25*page):(25*(page+1))]\n",
    "            co = CitationOverview(list_per_page, start=START_YEAR, end=END_YEAR)\n",
    "            yearly_citations_data = yearly_citations_data + co.cc\n",
    "            # urls = urls + co.url\n",
    "        \n",
    "    return yearly_citations_data"
   ]
  },
  {
   "cell_type": "markdown",
   "metadata": {},
   "source": [
    "no irp distinction"
   ]
  },
  {
   "cell_type": "code",
   "execution_count": 24,
   "metadata": {},
   "outputs": [
    {
     "name": "stdout",
     "output_type": "stream",
     "text": [
      "[['12', 'Allen', 'Katie', \"BC\\u200b Children\\u200b'\\u200b\\u200bs Hospital\", '57858657800', '', 'MEDI (1); PSYC (1)', ''], ['16', 'Anderson', 'Cameron M.', 'The University of British Columbia', '55453388200', '', 'NEUR (3); MEDI (1)', ''], ['19', 'Austin', 'Jehannine C.', 'University of British Columbia, Faculty of Medicine', '7402093250', '0000-0003-0338-7055', 'MEDI (264); BIOC (47); NEUR (37)', ''], ['21', 'Aydin', 'Cristina M.', 'The University of British Columbia', '15130612300', '', 'MEDI (4); BIOC (1)', ''], ['22', 'Azarbar', 'Ataa', 'The University of British Columbia', '57193737040', '', 'MEDI (2); PSYC (1); NEUR (1)', ''], ['23', 'Azim', 'Hassan F.A.', 'The University of British Columbia', '6701805069', '', 'MEDI (35); PSYC (25); SOCI (2)', ''], ['24', 'Baer', 'Susan', 'The University of British Columbia', '7005865403', '', 'PHYS (23); MEDI (15); CHEM (12)', ''], ['25', 'Bailey', 'Anthony J.', 'University of British Columbia, Faculty of Medicine', '7402596134', '', 'MEDI (129); NEUR (62); PSYC (53)', ''], ['28', 'Banno', 'Brian', 'British Columbia Cancer Agency', '25227722500', '', 'BIOC (2); PHAR (2); AGRI (1)', ''], ['31', 'Bates', 'Alan Thomas', 'University of British Columbia, Faculty of Medicine', '7102492953', '', 'MEDI (51); NEUR (21); PSYC (18)', ''], ['34', 'Beasley', 'Clare Louise', 'The University of British Columbia', '7102979717', '0000-0001-5919-7838', 'MEDI (52); NEUR (49); BIOC (18)', ''], ['37', 'Benning', 'Tony B.', 'University of British Columbia, Faculty of Medicine', '57212434003', '', 'MEDI (22); PSYC (8); SOCI (5)', ''], ['39', 'Bhalla', 'Rishi K.', 'Vancouver General Hospital', '8743293100', '', 'MEDI (27); PSYC (6); NEUR (6)', ''], ['41', 'Bilsker', 'Dan', 'University of British Columbia, Faculty of Medicine', '57203574310', '', 'MEDI (28); PSYC (3); NURS (2)', ''], ['45', 'Birmingham', 'Carl Laird', 'The University of British Columbia', '7005293592', '0000-0003-4331-2664', 'MEDI (205); PSYC (77); AGRI (29)', ''], ['46', 'Black', 'Tyler R.', 'University of British Columbia, Faculty of Medicine', '56603764900', '', 'MEDI (24); PSYC (1); MULT (1)', ''], ['47', 'Blackburn', 'Paul', 'The University of British Columbia', '57193806244', '', 'MEDI (3)', ''], ['50', 'Bond', 'David J.', 'The University of British Columbia', '14055349400', '0000-0002-8713-7311', 'MEDI (149); NEUR (45); PSYC (27)', ''], ['54', 'Bossé-Chartier', 'Gabrielle', 'University of British Columbia, Faculty of Medicine', '57221873401', '', 'MEDI (8); PSYC (2); ARTS (1)', ''], ['56', 'Boudreau', 'Ainsley M.', \"BC\\u200b Children\\u200b'\\u200b\\u200bs Hospital\", '35387416500', '', 'MEDI (5); PSYC (5)', ''], ['65', 'Bronkhorst', 'Aletta', 'The University of British Columbia', '56270019700', '', 'MEDI (4)', ''], ['67', 'Broster', 'Brett S.', 'The University of British Columbia', '6603832176', '', 'NEUR (5); PSYC (3)', ''], ['68', 'Brown', 'Craig E.', 'The University of British Columbia', '7408311558', '', 'NEUR (28); MEDI (27); BIOC (14)', ''], ['69', 'Burns', 'Kyle D.', 'The University of British Columbia', '55392034400', '', 'PHAR (1); MEDI (1)', ''], ['70', 'Burns', 'Amy M.N.', 'The University of British Columbia', '56221914700', '', 'MEDI (10); NEUR (4); NURS (1)', ''], ['71', 'Burrell', 'Erin', 'University of British Columbia, Faculty of Medicine', '57201586576', '', 'MEDI (9); ENVI (2); NURS (2)', ''], ['72', 'Burton', 'Hannah', 'University of British Columbia, Faculty of Medicine', '57241027600', '', 'MEDI (2)', ''], ['73', 'Butterfield', 'Michael', 'University of British Columbia, Faculty of Medicine', '57201589127', '', 'MEDI (10); BIOC (2); NEUR (2)', ''], ['75', 'Cameron', 'Kristjana', 'University of British Columbia, Faculty of Medicine', '55644251500', '', 'MEDI (2); PSYC (1); NURS (1)', ''], ['77', 'Campbell', 'Helen', 'The University of British Columbia', '57196812991', '', 'MEDI (5)', ''], ['78', 'Carlson', 'Marie', 'GF Strong Rehabilitation Centre, British Columbia', '57193092175', '', 'MEDI (3); HEAL (1)', ''], ['79', 'Carrion', 'Prescilla B.', 'University of British Columbia, Faculty of Medicine', '55760664000', '', 'MEDI (23); BIOC (4); PSYC (3)', ''], ['84', 'Catchpole', 'Rosalind E.H.', 'The University of British Columbia', '57210221841', '', 'PSYC (6); MEDI (6); SOCI (1)', ''], ['87', 'Chakrabarty', 'Trisha', 'University of British Columbia, Faculty of Medicine', '56521302100', '', 'MEDI (82); NEUR (15); PSYC (7)', ''], ['88', 'Chakraborty', 'Tapash Apu', 'University of British Columbia, Faculty of Medicine', '57751102400', '', 'MEDI (1); MULT (1)', ''], ['90', 'Chan', 'Ryan M.', 'The University of British Columbia', '57202308391', '', 'MEDI (2)', ''], ['91', 'Chapman', 'Laura', 'The University of British Columbia', '36481002500', '', 'PSYC (2); MEDI (1)', ''], ['92', 'Chauhan', 'Harpreet', \"St. Paul's Hospital, Vancouver\", '57224143174', '', 'MEDI (2)', ''], ['93', 'Cheek', 'Joanna', 'The University of British Columbia', '55651125300', '', 'MEDI (10); PSYC (3); ENGI (1)', ''], ['98', 'Cheung', 'Bennett Sw', 'University of British Columbia, Faculty of Medicine', '57907977000', '', 'MEDI (1); PSYC (1)', ''], ['101', 'Cho', 'Brian', 'The University of British Columbia', '56834980000', '', 'BIOC (5); MEDI (2); PHAR (1)', ''], ['103', 'Chodkiewicz', 'Adam', 'UBC Hospital', '53872376600', '', 'MEDI (2)', ''], ['105', 'Chow', 'Bryan', 'The University of British Columbia', '36914706000', '', 'MEDI (7)', ''], ['106', 'Chowdhury', 'Sheehan H.', 'The University of British Columbia', '57189730735', '', 'MEDI (3)', ''], ['107', 'Claman', 'Jeffery M.', 'UBC Hospital', '9042835100', '', 'MEDI (6); NEUR (1)', ''], ['108', 'Clark', 'Campbell M.', 'The University of British Columbia', '35480697600', '', 'MEDI (111); NEUR (90); PSYC (64)', ''], ['109', 'Clarke', 'Lorne Andrew', \"BC Children's Hospital Research Institute\", '7201975122', '0000-0003-0512-7281', 'MEDI (147); BIOC (125); MATH (5)', ''], ['110', 'Coelho', 'Jennifer S.', 'University of British Columbia, Faculty of Medicine', '15026048700', '0000-0001-9907-8067', 'MEDI (57); PSYC (40); NURS (16)', ''], ['111', 'Cohen', 'Jordan', 'The University of British Columbia', '58123561900', '', 'MEDI (2)', ''], ['117', 'Cooper', 'Michael', 'The University of British Columbia', '56502812400', '', 'PSYC (1); MEDI (1); SOCI (1)', ''], ['118', 'Cooper', 'Barry S.', 'The University of British Columbia', '9336058100', '', 'MEDI (21); PSYC (20); SOCI (9)', ''], ['119', 'Corbyn', 'Bryony R.', 'The University of British Columbia', '56644997400', '', 'MEDI (4); PSYC (1)', ''], ['120', 'Correia', 'Shauna', 'The University of British Columbia', '56611553100', '', 'MEDI (15); BIOC (2)', ''], ['122', 'Cox', 'Darcy', 'The University of British Columbia', '35474734500', '', 'MEDI (12); PSYC (9); NEUR (1)', ''], ['124', 'Craig', 'Ann Marie', 'Djavad Mowafaghian Centre for Brain Health', '7201507943', '', 'NEUR (88); BIOC (78); MEDI (26)', ''], ['125', 'Crowell', 'Timothy A.', 'The University of British Columbia', '6603815296', '', 'PSYC (19); NEUR (8); MEDI (8)', ''], ['126', 'Culo', 'Sandi', 'The University of British Columbia', '14621580400', '', 'MEDI (5); PSYC (1); NURS (1)', ''], ['128', 'Davis', 'Lindsay', \"St. Paul's Hospital\", '56062721600', '', 'MEDI (1); NEUR (1)', ''], ['130', 'Degenhardt', 'Amanda', 'The University of British Columbia', '56471624300', '', 'NEUR (4); MEDI (3); BIOC (2)', ''], ['133', 'Dhaliwal', 'Kuljit', 'The University of British Columbia', '54683690300', '', 'MEDI (1)', ''], ['134', 'Dhariwal', 'Amrit K.', 'The University of British Columbia', '57209706536', '0000-0001-5724-5584', 'MEDI (10); PSYC (9); SOCI (3)', ''], ['135', 'Diamond', 'Adele', 'University of British Columbia, Faculty of Medicine', '7102727063', '0000-0002-1453-6434', 'PSYC (78); NEUR (39); MEDI (31)', ''], ['137', 'Docherty', 'Claire', 'University of British Columbia, Faculty of Medicine', '57720890400', '', 'MEDI (1)', ''], ['143', 'Douziech', 'Jeffery R.', \"BC\\u200b Children\\u200b'\\u200b\\u200bs Hospital\", '37025894100', '', 'MEDI (4)', ''], ['146', 'D&amp;apos;Oyley', 'Heather M.', 'Vancouver General Hospital', '6508016739', '', 'NEUR (2); PHAR (2); MEDI (1)', ''], ['148', 'Drance', 'Elisabeth', 'The University of British Columbia', '14424084600', '', 'SOCI (6); MEDI (4); ARTS (3)', ''], ['149', 'Driscoll', 'Miriam', 'The University of British Columbia', '56611493100', '', 'MEDI (19); PSYC (4); BIOC (3)', ''], ['150', 'Drouillard', 'Natalie', 'The University of British Columbia', '55605236300', '', 'MEDI (1)', ''], ['151', 'Dua', 'Vikram', 'British Columbia Autism Assessment Network', '24733684600', '', 'MEDI (7); PSYC (1)', ''], ['153', 'Dunn', 'Patrice M.', 'The University of British Columbia', '7401710339', '', 'MEDI (1)', ''], ['156', 'Edalati', 'Kourosh', \"BC Children's Hospital Research Institute\", '35169140500', '', 'MEDI (2)', ''], ['158', 'Edwards', 'Katherine R.', 'The University of British Columbia', '7402956237', '', 'MEDI (7); NEUR (5); PHAR (4)', ''], ['162', 'Elliott', 'Katherine P.', 'The University of British Columbia', '56124508300', '', 'PSYC (5); MEDI (4); ARTS (1)', ''], ['166', 'Eslami', 'Ali', \"BC\\u200b Children\\u200b'\\u200b\\u200bs Hospital\", '57196115091', '', 'MEDI (12); MATH (1); COMP (1)', ''], ['169', 'Evans', 'Anush', 'University of British Columbia, Faculty of Medicine', '58465847500', '', 'MEDI (3)', ''], ['172', 'Fahy', 'Mellisa J.', 'UBC Hospital', '7007123330', '', 'MEDI (6); BIOC (2)', ''], ['175', 'Fedoroff', 'Ingrid C.', 'University of British Columbia, Faculty of Medicine', '6603312534', '', 'MEDI (18); PSYC (10); NEUR (8)', ''], ['176', 'Fennemore', 'Marie', \"St. Paul's Hospital, Vancouver\", '57195972769', '', 'MEDI (3); PSYC (2); ARTS (1)', ''], ['178', 'Fernando', 'Nadeesha', 'The University of British Columbia', '9242836600', '', 'MEDI (1)', ''], ['179', 'Fibiger', 'Hans Christian', 'The University of British Columbia', '35478938200', '', 'NEUR (534); PHAR (273); BIOC (258)', ''], ['180', 'Fine', 'Stuart H.', 'The University of British Columbia', '7102143837', '', 'MEDI (54); PSYC (36); NEUR (4)', ''], ['182', 'Flynn', 'Sean W.', 'The University of British Columbia', '7007046066', '', 'MEDI (31); NEUR (21); PSYC (10)', ''], ['183', 'Forbes', 'Ian', 'Vancouver General Hospital', '23059901400', '', 'NEUR (3); PSYC (1); MEDI (1)', ''], ['184', 'Fox', 'Joel', 'The University of British Columbia', '57198663486', '', 'MEDI (3); BIOC (1)', ''], ['185', 'Frangou', 'Sophia', 'University of British Columbia, Faculty of Medicine', '7004549374', '', 'MEDI (411); NEUR (222); PSYC (69)', ''], ['188', 'Freedman', 'Glen', 'The University of British Columbia', '15044222600', '', 'PSYC (2)', ''], ['193', 'Froese', 'Colleen L.', 'The University of British Columbia', '6602314982', '', 'CHEM (3); MEDI (3); MATE (2)', ''], ['196', 'Fung', 'Kathryn', 'The University of British Columbia', '57211860093', '', 'MEDI (2); SOCI (2)', ''], ['197', 'Fung', 'Jonathan', 'The University of British Columbia', '7203073310', '', 'MEDI (3); PSYC (2); AGRI (1)', ''], ['200', 'Gamble', 'Allison', 'The University of British Columbia', '57192556775', '', 'SOCI (1); MEDI (1)', ''], ['207', 'Geller', 'Josie', 'The University of British Columbia', '36004382200', '', 'MEDI (96); PSYC (65); NURS (17)', ''], ['209', 'Gilks', 'Thea', 'The University of British Columbia', '57201668645', '', 'PHAR (1); MEDI (1); ENVI (1)', ''], ['213', 'Gillespie', 'Ian A.', 'University of British Columbia, Faculty of Medicine', '36544823500', '', 'MEDI (5); HEAL (1)', ''], ['216', 'Greenaway', \"Masa'il\", \"BC Children's Hospital\", '35169418800', '', 'MEDI (2)', ''], ['228', 'Halli', 'Priyanka S.', 'University of British Columbia, Faculty of Medicine', '26429281700', '', 'MEDI (20); PSYC (3); MULT (1)', ''], ['233', 'Haring', 'Michelle', 'The University of British Columbia', '7006162504', '', 'SOCI (4); PSYC (2)', ''], ['234', 'Harrison', 'Richard L.', 'The University of British Columbia', '7403907599', '', 'PSYC (4); MEDI (3); BUSI (1)', ''], ['236', 'Hassan', 'Islam', 'The University of British Columbia', '55539363500', '', 'MEDI (20); NEUR (6)', ''], ['242', 'Ho', 'Charles', 'University of British Columbia, Faculty of Medicine', '57215122810', '', 'MEDI (1); SOCI (1)', ''], ['245', 'Honer', 'William G.', 'University of British Columbia, Faculty of Medicine', '7004460814', '0000-0002-7628-5108', 'MEDI (664); NEUR (364); PSYC (113)', ''], ['246', 'Hong', 'Kyung Sue', 'The University of British Columbia', '26655604800', '0000-0002-1250-6151', 'MEDI (111); NEUR (44); PSYC (17)', ''], ['248', 'Howard', 'Andrew K.', 'University of British Columbia, Faculty of Medicine', '34770101000', '', 'MEDI (29); NEUR (8); PSYC (5)', ''], ['249', 'Howell-Jones', 'Gail', 'The University of British Columbia', '6507383072', '', 'PSYC (1)', ''], ['250', 'Howson', 'Anne L.', 'Vancouver General Hospital', '36871808100', '', 'NEUR (1); MEDI (1)', ''], ['254', 'Ignaszewski', 'Martha J.', 'Vancouver General Hospital', '53865053900', '', 'MEDI (20); PSYC (2); PHAR (2)', ''], ['255', 'Ilcewicz-Klimek', 'Magdalena I.', 'Vancouver General Hospital', '54966762100', '', 'MEDI (7); NEUR (1)', ''], ['256', 'Illing', 'Martin', 'The University of British Columbia', '26040773700', '', 'MEDI (1)', ''], ['257', 'Inglis', 'Angela J.', 'University of British Columbia, Faculty of Medicine', '54684116800', '', 'MEDI (39); BIOC (9); MULT (1)', ''], ['260', 'Jagdeo', 'Arun', 'The University of British Columbia', '57199353619', '', 'MEDI (1)', ''], ['262', 'Jang', 'Kerry L.', 'University of British Columbia, Faculty of Medicine', '7201796278', '', 'MEDI (210); PSYC (98); NEUR (29)', ''], ['267', 'Jia', 'Lingsa', 'University of British Columbia, Faculty of Medicine', '57214891367', '', 'MEDI (5)', ''], ['272', 'Jukes', 'Tara', \"BC\\u200b Children\\u200b'\\u200b\\u200bs Hospital\", '57908816200', '', 'PSYC (1); BIOC (1); MEDI (1)', ''], ['283', 'Kealy', 'David', 'University of British Columbia, Faculty of Medicine', '36022490700', '0000-0002-3679-6085', 'MEDI (237); PSYC (125); SOCI (30)', ''], ['285', 'Kennedy', 'Andrea L.', 'University of British Columbia, Faculty of Medicine', '57221478702', '', 'MEDI (3)', ''], ['286', 'Kennedy', 'Christine M.', 'The University of British Columbia', '56021008700', '', 'MEDI (2)', ''], ['288', 'Keramatian', 'Kamyar', 'Coastal Early Psychosis Intervention Program', '14060234300', '', 'MEDI (48); NEUR (14); PSYC (4)', ''], ['289', 'Khan', 'Mohammad', 'The University of British Columbia', '13310326200', '', 'MEDI (9); IMMU (2); ENVI (1)', ''], ['290', 'Khanbhai', 'Irfan', 'Vancouver General Hospital', '6507391421', '', 'MEDI (3); NEUR (1); PSYC (1)', ''], ['293', 'Klein', 'Carolin', 'West Coast Centre for Sex Therapy', '11440768800', '', 'MEDI (28); SOCI (10); PSYC (9)', ''], ['295', 'Kobiljski', 'Jasmina', 'The University of British Columbia', '16042328100', '', 'BIOC (2)', ''], ['296', 'Koczapski', 'Andrzej B.', 'The University of British Columbia', '6602154141', '', 'MEDI (16); NEUR (5); PSYC (2)', ''], ['300', 'Kope', 'Terry M.', 'The University of British Columbia', '6506567676', '', 'MEDI (5); PSYC (2)', ''], ['303', 'Korman', 'Lorne M.', 'The University of British Columbia', '23111139300', '', 'PSYC (8); MEDI (3)', ''], ['306', 'Kot', 'Sarina', \"BC Children's Hospital\", '35114998500', '', 'PSYC (1); HEAL (1)', ''], ['307', 'Krausz', 'Michael R.', 'University of British Columbia, Faculty of Medicine', '57195119591', '', 'MEDI (401); PSYC (75); NEUR (40)', ''], ['309', 'Krell', 'Robert', 'The University of British Columbia', '56968821100', '', 'MEDI (32); PSYC (18); SOCI (7)', ''], ['310', 'Krishnamoorthy', 'Ashok', 'The University of British Columbia', '56800162200', '', 'MEDI (12); NURS (3); SOCI (1)', ''], ['311', 'Kundi', 'Pardeep Singh', 'Vancouver General Hospital', '57222073684', '', 'MEDI (1)', ''], ['312', 'Kunkel', 'Lucinda', 'BC Mental Health and Substance Use Services', '56579883700', '', 'MEDI (1); PSYC (1)', ''], ['315', 'Lafleur', 'Daniel L.', 'The University of British Columbia', '6701721002', '', 'AGRI (2); PSYC (2); MEDI (2)', ''], ['317', 'Laidlaw', 'Jennifer', 'The University of British Columbia', '57185252300', '', 'MEDI (4); SOCI (1); COMP (1)', ''], ['319', 'Lam', 'Raymond W.', 'The University of British Columbia', '21742966400', '0000-0001-7142-4669', 'MEDI (686); NEUR (198); PSYC (130)', ''], ['321', 'Lament', 'Richard', 'The University of British Columbia', '57191807707', '', 'PHAR (1); MEDI (1)', ''], ['322', 'Lane', 'Carol J.', 'The University of British Columbia', '7101975482', '', 'MEDI (9); NEUR (6); PHAR (2)', ''], ['323', 'Langheimer', 'Verena', 'University of British Columbia, Faculty of Medicine', '56841650700', '', 'MEDI (3); MULT (1)', ''], ['325', 'Lau', 'Mark A.', 'The University of British Columbia', '7102344927', '', 'PSYC (38); MEDI (25); SOCI (3)', ''], ['327', 'Lee', 'Harrison J.', 'University of British Columbia, Faculty of Medicine', '58412531300', '', 'MEDI (1); PSYC (1)', ''], ['329', 'Lee', 'Danny S.', 'The University of British Columbia', '57218697032', '', 'MEDI (1)', ''], ['330', 'Leising', 'Julie', 'The University of British Columbia', '57222409019', '', 'MEDI (4)', ''], ['331', 'Leong', 'Kawai', 'Vancouver General Hospital', '55965472400', '', 'MEDI (6); NEUR (2)', ''], ['333', 'Leung', 'Aldrich', 'The University of British Columbia', '57191493038', '', 'MEDI (2); PSYC (1)', ''], ['334', 'Levin', 'Alexander', 'Vancouver General Hospital', '53869151200', '', 'PSYC (2); MEDI (1)', ''], ['336', 'Li', 'Jennifer', 'Vancouver General Hospital', '57226297694', '', 'MEDI (2)', ''], ['338', 'Lilley', 'Christine M.', 'Compass Clinic', '36849972100', '', 'MEDI (15); NEUR (2); PSYC (1)', ''], ['339', 'Lin', 'Daniel', 'Foundry', '57207255642', '', 'PSYC (2); MEDI (2)', ''], ['340', 'Liu', 'Cindy', 'The University of British Columbia', '57210800001', '', 'SOCI (3); MEDI (2); NURS (1)', ''], ['341', 'Livesley', 'W. John', 'The University of British Columbia', '7006261608', '', 'MEDI (159); PSYC (117); NEUR (24)', ''], ['349', 'Ma', 'Annie', 'The University of British Columbia', '57203804174', '', 'PSYC (2); MEDI (1)', ''], ['351', 'Macfadden', 'Megan', \"BC\\u200b Children\\u200b'\\u200b\\u200bs Hospital\", '57445597700', '', 'MEDI (1)', ''], ['353', 'MacVicar', 'Brian Archibald', 'Djavad Mowafaghian Centre for Brain Health', '7006717711', '0000-0003-4596-4623', 'NEUR (168); BIOC (96); MEDI (82)', ''], ['354', 'Mah', 'Janet W.T.', \"BC\\u200b Children\\u200b'\\u200b\\u200bs Hospital\", '16417405100', '0000-0001-7706-6890', 'MEDI (14); PSYC (13); SOCI (4)', ''], ['355', 'Mahal', 'Daljeet', 'University of British Columbia, Faculty of Medicine', '56104205700', '', 'MEDI (2); PSYC (1)', ''], ['358', 'Mansoor', 'Soudeh', 'Vancouver General Hospital', '55319931600', '', 'MEDI (2); BIOC (1)', ''], ['360', 'Martin', 'Nicole', 'The University of British Columbia', '55780320000', '', 'MEDI (2); NEUR (1)', ''], ['362', 'Mathew', 'Nickie', 'Vancouver General Hospital', '57209761500', '', 'MEDI (37); PSYC (5); NURS (4)', ''], ['363', 'Mathias', 'Steve M.', 'Foundry', '14052613700', '', 'MEDI (79); NURS (8); SOCI (6)', ''], ['365', 'McConnell', 'Melanie C.', 'The University of British Columbia', '57220525089', '', 'PSYC (2); MEDI (1); NEUR (1)', ''], ['366', 'McDermid', 'Joanna', 'The University of British Columbia', '56533500400', '', 'MEDI (3); PSYC (1)', ''], ['368', 'McDonald', 'Patrick J.', 'The University of British Columbia', '9943286500', '', 'MEDI (210); NEUR (40); BIOC (6)', ''], ['370', 'McGarvey', 'Kathleen A.', 'The University of British Columbia', '6602697028', '', 'MEDI (8); BIOC (4); NEUR (2)', ''], ['371', 'McGeer', 'Edith G.', 'The University of British Columbia', '35454223400', '', 'NEUR (338); MEDI (247); BIOC (235)', ''], ['372', 'McIntosh', 'Diane', 'Tellus', '16245801200', '', 'MEDI (31); PHAR (3); NEUR (3)', ''], ['374', 'McMillan', 'Janette', 'The University of British Columbia', '57197990761', '', 'MEDI (1)', ''], ['378', 'Mendoza', 'Valentina', 'The University of British Columbia', '7004437254', '', 'MEDI (2)', ''], ['379', 'Menon', 'Mahesh', 'University of British Columbia, Faculty of Medicine', '9637177400', '', 'MEDI (106); NEUR (53); PSYC (27)', ''], ['381', 'Michalak', 'Erin E.', 'University of British Columbia, Faculty of Medicine', '7006410152', '', 'MEDI (212); PSYC (51); NEUR (35)', ''], ['386', 'Miranda', 'Charmaine A.', 'The University of British Columbia', '22634815700', '', 'MEDI (2); BIOC (1)', ''], ['387', 'Miremadi', 'Saman', 'Vancouver General Hospital', '36776440700', '', 'MEDI (3)', ''], ['390', 'Mithani', 'Akber', 'University of British Columbia, Faculty of Medicine', '22035440500', '', 'MEDI (6); NURS (2); DENT (1)', ''], ['391', 'Molgat', 'Carmen V.', 'University of British Columbia, Faculty of Medicine', '12040705800', '', 'MEDI (4); PSYC (2); NEUR (2)', ''], ['393', 'Montalbetti', 'David J.', 'The University of British Columbia', '6507044801', '', 'MEDI (2)', ''], ['396', 'Morris', 'Emily M.', 'University of British Columbia, Faculty of Medicine', '56768908600', '', 'MEDI (55); BIOC (9); MULT (1)', ''], ['398', 'Murphy', 'Timothy H.', 'University of British Columbia, Faculty of Medicine', '7401632487', '0000-0002-0093-4490', 'NEUR (184); BIOC (112); MEDI (107)', ''], ['399', 'Murray', 'Candice', \"BC\\u200b Children\\u200b'\\u200b\\u200bs Hospital\", '7402491720', '', 'PSYC (14); MEDI (7); NEUR (2)', ''], ['401', 'Na', 'Jennifer Jiwon', 'The University of British Columbia', '56091092700', '', 'PSYC (12); MEDI (9); SOCI (4)', ''], ['408', 'Nerenberg', 'Lucila', 'The University of British Columbia', '57214934599', '', 'MEDI (1)', ''], ['410', 'Ngan', 'Elton T.C.', 'The University of British Columbia', '6603918292', '', 'NEUR (39); MEDI (27); PSYC (12)', ''], ['412', 'Northcott', 'Colleen J.', 'The University of British Columbia', '6603126420', '', 'MEDI (11); SOCI (2); NEUR (2)', ''], ['413', 'Nunez', 'Carlos', 'The University of British Columbia', '57200697785', '', 'MEDI (2)', ''], ['415', 'Ogrodniczuk', 'John S.', 'The University of British Columbia', '7003941225', '', 'MEDI (319); PSYC (200); SOCI (53)', ''], ['418', \"O'Neill\", 'Ryan', 'The University of British Columbia', '57211911054', '', 'MEDI (1)', ''], ['419', 'Ono', 'Erika', 'The University of British Columbia', '57208317891', '', 'MEDI (1)', ''], ['423', 'Panenka', 'William J.', 'The University of British Columbia', '55305981100', '0000-0001-7143-6512', 'MEDI (143); NEUR (31); PSYC (23)', ''], ['425', 'Passmore', 'Michael J.', 'Providence Health Care Canada', '8558956500', '', 'MEDI (21); NEUR (12); PSYC (7)', ''], ['428', 'Patton', 'Sheila W.', \"St. Paul's Hospital\", '7102203866', '', 'MEDI (3)', ''], ['430', 'Pavlidis', 'Paul', 'Michael Smith Laboratories', '7004159655', '0000-0002-0426-5028', 'BIOC (160); MEDI (115); NEUR (60)', ''], ['431', 'Penner', 'Erika K.', \"BC\\u200b Children\\u200b'\\u200b\\u200bs Hospital\", '36620567700', '0000-0002-3347-702X', 'MEDI (8); SOCI (4); PSYC (3)', ''], ['433', 'Perel-Panar', 'Carina', 'The University of British Columbia', '57190869718', '', 'MEDI (3)', ''], ['434', 'Persaud', 'Rainer', 'The University of British Columbia', '57156090400', '', 'MEDI (1); NEUR (1)', ''], ['436', 'Phillips', 'Anthony G.', 'University of British Columbia, Faculty of Medicine', '7401658611', '', 'NEUR (322); PHAR (160); BIOC (140)', ''], ['439', 'Poitras', 'Susan', 'BC Women’s Hospital + Health Centre', '57972471900', '', 'MEDI (1); NURS (1)', ''], ['442', 'Price', 'Kelly J.', 'The University of British Columbia', '7201789498', '0000-0003-0371-5100', 'PSYC (7); MEDI (4)', ''], ['448', 'Randhawa', 'Ramandeep S.', 'UBC Hospital', '55524284000', '', 'PSYC (2)', ''], ['451', 'Raudzus', 'Julia', \"St. Paul's Hospital, Vancouver\", '25926621500', '', 'MEDI (8); PSYC (1)', ''], ['452', 'Raymond', 'Lynn A.', 'Djavad Mowafaghian Centre for Brain Health', '7102737545', '', 'NEUR (116); BIOC (101); MEDI (93)', ''], ['454', 'Reiner', 'Ethan', 'The University of British Columbia', '56226477000', '', 'IMMU (6); MEDI (3)', ''], ['455', 'Reiner', 'Peter B.', 'The University of British Columbia', '7006024841', '', 'NEUR (100); MEDI (40); BIOC (32)', ''], ['456', 'Azar', 'Pouya', 'Vancouver General Hospital', '56606982500', '', 'MEDI (42); PSYC (8); NURS (3)', ''], ['457', 'Richford', 'Carole M.', 'The University of British Columbia', '55389964900', '', 'PHAR (1)', ''], ['460', 'Robertson', 'Heather A.', 'Vancouver General Hospital', '26536697200', '', 'NEUR (16); MEDI (16); PSYC (6)', ''], ['461', 'Robichaud', 'Melisa', 'The University of British Columbia', '6701686589', '', 'PSYC (19); MEDI (9); ARTS (1)', ''], ['463', 'Rogers', 'Jenny', 'The University of British Columbia', '56896309600', '', 'MEDI (2)', ''], ['467', 'Rothbart', 'Rachel', 'The University of British Columbia', '56163378500', '', 'MEDI (5); PHAR (1)', ''], ['470', 'Rozylo', 'Jennifer', 'The University of British Columbia', '57215298733', '', 'MEDI (2)', ''], ['472', 'Russel', 'Jennifer', \"BC Children's Hospital\", '57194198180', '', 'MEDI (3); NURS (1)', ''], ['474', 'Ryan', 'Deirdre T.', 'The University of British Columbia', '16736851400', '', 'MEDI (38); PSYC (4); NURS (3)', ''], ['475', 'Ryan', 'Jane', 'The University of British Columbia', '57213570991', '', 'NEUR (3); BIOC (3); MEDI (2)', ''], ['476', 'Saari', 'Carol Ann', 'The University of British Columbia', '6603390537', '', 'IMMU (1)', ''], ['478', 'Salih', 'Tamara', 'The University of British Columbia', '57208316005', '', 'MEDI (2); PSYC (1)', ''], ['479', 'Saran', 'Kelly', 'The University of British Columbia', '56418275000', '', 'MEDI (4); PSYC (1)', ''], ['480', 'Sassi', 'Roberto Britto', 'University of British Columbia, Faculty of Medicine', '7003544009', '0000-0001-8862-0930', 'MEDI (118); NEUR (65); PSYC (48)', ''], ['482', 'Scamvougeras', 'Anton', 'The University of British Columbia', '6507091183', '', 'MEDI (10); PSYC (5); NEUR (2)', ''], ['487', 'Scholtens', 'Martina', \"Médecin de famille à la Bridge Refugee Clinic à Vancouver (C.-B.) pendant 12 ans et elle termine actuellement une formation additionnelle sur la santé publique et la médecine préventive à l'Université de la Colombie-Britannique\", '6506939559', '', 'MEDI (2)', ''], ['489', 'Schütz', 'Christian G. G.', 'The University of British Columbia', '7006895707', '', 'MEDI (178); PSYC (25); PHAR (22)', ''], ['490', 'Schultz', 'Krista', 'University of British Columbia, Faculty of Medicine', '56841227000', '', 'MEDI (5); NEUR (2)', ''], ['492', 'Seamans', 'Jeremy Keith', 'Djavad Mowafaghian Centre for Brain Health', '7003907622', '', 'NEUR (76); BIOC (22); MEDI (21)', ''], ['495', 'Sehrbrock', 'Joachim', 'The University of British Columbia', '57217292942', '', 'MEDI (2); PSYC (2)', ''], ['497', 'Selles', 'Robert R.', 'University of British Columbia, Faculty of Medicine', '55207578400', '0000-0002-4061-6147', 'MEDI (64); PSYC (29); NEUR (4)', ''], ['506', 'Sherwood', 'Megan', 'The University of British Columbia', '36743693400', '', 'MEDI (5); NEUR (4); PSYC (3)', ''], ['509', 'Shulman', 'Barbara', 'University of British Columbia, Faculty of Medicine', '15770130600', '', 'MEDI (7); PSYC (1)', ''], ['513', 'Sidhu', 'Jesse A.', 'The University of British Columbia', '57221512425', '', 'MEDI (6); PSYC (2); NEUR (1)', ''], ['514', 'Sinai', 'Joanne', 'The University of British Columbia', '57748774300', '', 'MEDI (8); HEAL (1); PHAR (1)', ''], ['515', 'Singh', 'Kulbir I.', 'Vancouver General Hospital', '57213995165', '', 'MEDI (2)', ''], ['517', 'Singh', 'Pulkit', 'The University of British Columbia', '57194687130', '', 'MEDI (2)', ''], ['519', 'Slomp', 'Caitlin', 'The University of British Columbia', '57200679051', '', 'MEDI (28); BIOC (3); MULT (1)', ''], ['521', 'Smith', 'Erin K.', 'The University of British Columbia', '57194940998', '', 'MEDI (3)', ''], ['522', 'Smith', 'David F.', \"BC\\u200b Children\\u200b'\\u200b\\u200bs Hospital\", '55553732235', '', 'MEDI (5)', ''], ['524', 'Smith', 'Kevin', \"St. Paul's Hospital, Vancouver\", '57224141663', '', 'MEDI (2)', ''], ['527', 'Solomons', 'Kevin', 'The University of British Columbia', '6701822044', '', 'MEDI (17); PSYC (5); NEUR (2)', ''], ['528', 'Soma', 'Rahul', 'The University of British Columbia', '22952080700', '', 'MEDI (1)', ''], ['530', 'Song', 'Weihong', 'The University of British Columbia', '7401655359', '0000-0001-9928-889X', 'MEDI (172); BIOC (170); NEUR (124)', ''], ['532', 'Srivastava', 'Raman', 'University of British Columbia, Faculty of Medicine', '56602199200', '', 'MEDI (11); NURS (1); SOCI (1)', ''], ['533', 'Stanford', 'Elizabeth A.', \"BC\\u200b Children\\u200b'\\u200b\\u200bs Hospital\", '8930049200', '', 'MEDI (14); NEUR (8); PSYC (6)', ''], ['535', 'Stevenson', 'Ronald W.D.', 'The University of British Columbia', '7402603331', '', 'MEDI (10); PSYC (2); PHAR (1)', ''], ['536', 'Stewart', 'S. Evelyn', \"Children's and Women's Health Centre of British Columbia\", '54414801200', '0000-0002-0994-6383', 'MEDI (223); PSYC (59); NEUR (37)', ''], ['541', 'Szasz', 'George', 'UBC Hospital', '7102044594', '', 'MEDI (17); PSYC (6); BIOC (2)', ''], ['543', 'Tam', 'Edwin M.', 'The University of British Columbia', '7005275683', '', 'MEDI (43); PSYC (19); NEUR (18)', ''], ['544', 'Tarzwell', 'Robert', 'University of British Columbia, Faculty of Medicine', '8839388900', '', 'MEDI (22); NEUR (5); PSYC (4)', ''], ['546', 'Taylor', 'Christine G.', \"St. Paul's Hospital\", '7404823774', '', 'NEUR (3); MEDI (1); PSYC (1)', ''], ['547', 'Taylor', 'Steven', 'University of British Columbia, Faculty of Medicine', '55628531401', '', 'PSYC (271); MEDI (228); NEUR (27)', ''], ['548', 'Telio', 'Summer', 'The University of British Columbia', '55760632800', '', 'MEDI (4); SOCI (2)', ''], ['550', 'Tham', 'Joseph Chun Wearn', 'University of British Columbia, Faculty of Medicine', '56062535000', '', 'MEDI (20); NEUR (7); PSYC (1)', ''], ['552', 'Thompson', 'Darren', 'The University of British Columbia', '57203922653', '', 'MEDI (1)', ''], ['553', 'Thomson', 'Katharine', 'The University of British Columbia', '57190261926', '', 'SOCI (4); MEDI (2)', ''], ['554', 'Thorpe', 'Marilyn', 'The University of British Columbia', '57194687339', '', 'MEDI (2)', ''], ['555', 'To', 'Sharon', \"BC\\u200b Children\\u200b'\\u200b\\u200bs Hospital\", '55918153300', '', 'MEDI (20); IMMU (6); PSYC (5)', ''], ['558', 'Tomita', 'Todd', 'Broadway Forensic Group', '55911484000', '', 'MEDI (7)', ''], ['559', 'Torbicki', 'Karl', \"St. Paul's Hospital\", '15520232700', '', 'MEDI (4); IMMU (1)', ''], ['561', 'Tsang', 'Nicole', 'The University of British Columbia', '22836661200', '', 'MEDI (2)', ''], ['569', 'Vanderwal', 'Tamara', 'University of British Columbia, Faculty of Medicine', '24177629100', '', 'MEDI (34); NEUR (22); PSYC (10)', ''], ['572', 'Vaughan', 'Mariko', 'University of British Columbia, Faculty of Medicine', '39162181700', '', 'NEUR (3); MEDI (3)', ''], ['575', 'Vigo', 'Daniel V.', 'University of British Columbia, Faculty of Medicine', '26538354800', '0000-0002-4445-4122', 'MEDI (96); PSYC (13); NEUR (7)', ''], ['576', 'Vik', 'Astrid', 'The University of British Columbia', '58398155200', '', 'MEDI (3); NEUR (2)', ''], ['577', 'Vila-Rodriguez', 'Fidel', 'The University of British Columbia', '24279161600', '0000-0002-8273-8820', 'MEDI (265); NEUR (77); PSYC (34)', ''], ['578', 'Vincent', 'Steven R.', 'University of British Columbia, Faculty of Medicine', '7202465328', '', 'NEUR (121); BIOC (90); MEDI (38)', ''], ['581', 'Wald', 'Jaye L.', 'The University of British Columbia', '7006071216', '', 'PSYC (21); MEDI (18); HEAL (3)', ''], ['584', 'Walton', 'Georgia', 'The University of British Columbia', '57220485135', '', 'SOCI (1); PSYC (1); MEDI (1)', ''], ['585', 'Wang', 'Jay Ching Chieh', 'University of British Columbia, Faculty of Medicine', '55545804900', '', 'MEDI (29); NEUR (6); PSYC (2)', ''], ['586', 'Wang', 'Peter T.C.', 'The University of British Columbia', '55658418900', '', 'BIOC (4)', ''], ['587', 'Wang', 'Tina Kaiting', 'The University of British Columbia', '57200854195', '', 'BIOC (3)', ''], ['589', 'Ward', 'Carol', 'The University of British Columbia', '50162634300', '', 'NEUR (1); MEDI (1)', ''], ['592', 'Weideman', 'Rene', 'The University of British Columbia', '6603343589', '', 'PSYC (10); MEDI (9); HEAL (1)', ''], ['594', 'Westwell-Roper', 'Clara Y.', 'University of British Columbia, Faculty of Medicine', '35340268900', '', 'MEDI (66); BIOC (14); IMMU (6)', ''], ['596', 'Wicholas', 'Leslie', 'The University of British Columbia', '56095007600', '', 'MEDI (6)', ''], ['598', 'Wide', 'Jennifer K.', 'The University of British Columbia', '6507869938', '', 'NEUR (4); MEDI (1); PSYC (1)', ''], ['599', 'Wiebe', 'Carl', 'The University of British Columbia', '7003779266', '', 'MEDI (1)', ''], ['602', 'Wiens', 'Christian', 'The University of British Columbia', '36710823300', '', 'MEDI (3)', ''], ['606', 'Williamson', 'Bradley T.', 'The University of British Columbia', '57189374624', '', 'MEDI (1)', ''], ['608', 'Wiseman', 'Stephen R.', \"St. Paul's Hospital\", '36904610600', '', 'MEDI (4); PHAR (1)', ''], ['610', 'Woldum', 'Evan', 'The University of British Columbia', '57210804367', '', 'SOCI (3); MEDI (2); NURS (1)', ''], ['611', 'Wolverton', 'Annie', \"BC\\u200b Children\\u200b'\\u200b\\u200bs Hospital\", '35728017000', '', 'MEDI (2)', ''], ['612', 'Wong', 'Gloria', 'The University of British Columbia', '37022195400', '', 'NEUR (1)', ''], ['614', 'Wong', 'Angela', 'University of British Columbia, Faculty of Dentistry', '58195293500', '', 'MEDI (2); DENT (1); BIOC (1)', ''], ['617', 'Woodward', 'Todd Stephen', 'The University of British Columbia', '7102848867', '0000-0001-8083-0079', 'MEDI (203); NEUR (133); PSYC (126)', ''], ['620', 'Yamamoto', 'Aiko', \"St. Paul's Hospital, Vancouver\", '57201999867', '', 'MEDI (6); PSYC (3); NEUR (2)', ''], ['622', 'Yaxley', 'David', 'The University of British Columbia', '36244723700', '', 'MEDI (1); PSYC (1)', ''], ['624', 'Yeh', 'Jennifer N.', 'The University of British Columbia', '8937566000', '', 'MEDI (1)', ''], ['625', 'Yeung', 'Anthony', \"BC Children's Hospital Research Institute\", '57189684005', '', 'BIOC (1)', ''], ['628', 'Young', 'Quincy Robyn', \"St. Paul's Hospital, Vancouver\", '36957602900', '', 'MEDI (24); NURS (5); PSYC (1)', ''], ['634', 'Zhang', 'Paige', 'The University of British Columbia', '57203910791', '', 'MEDI (1)', ''], ['636', 'Zwicker', 'Amy E.', 'Vancouver General Hospital', '14020816600', '', 'MEDI (3); PSYC (2); NEUR (1)', '']]\n",
      "281\n"
     ]
    }
   ],
   "source": [
    "member_arr_filtered = [row for row in member_arr if row[3] != \"\"]\n",
    "print(member_arr_filtered)\n",
    "print(len(member_arr_filtered))"
   ]
  },
  {
   "cell_type": "code",
   "execution_count": 42,
   "metadata": {},
   "outputs": [],
   "source": [
    "def remove_duplicate_pubs(out_dict):\n",
    "    eids = []\n",
    "    for i in range(len(out_dict[output_cols[0]])):\n",
    "        current_eid = out_dict[output_cols[1]][i]\n",
    "        if current_eid in eids:\n",
    "            #remove everything in that row\n",
    "            for key in out_dict.keys():\n",
    "                print(\"duplicate found\")\n",
    "                out_dict[key].pop(i)\n",
    "        else:\n",
    "            eids.append(current_eid)\n",
    "    print(\"all publications searched\")\n",
    "    return out_dict, eids\n",
    "        "
   ]
  },
  {
   "cell_type": "code",
   "execution_count": 26,
   "metadata": {},
   "outputs": [],
   "source": [
    "def fill_article_rows(author_details:tuple, documents, dict):\n",
    "    for document in documents:\n",
    "        dict[output_cols[0]].append(document.title) #title\n",
    "        dict[output_cols[1]].append(document.eid) #eid\n",
    "        dict[output_cols[2]].append(document.coverDate.split(\"-\")[0]) #publication date\n",
    "        dict[output_cols[3]].append(document.author_names) #author names\n",
    "        dict[output_cols[4]].append(author_details[0]) #last name\n",
    "        dict[output_cols[5]].append(author_details[1]) #first name\n",
    "        dict[output_cols[6]].append(author_details[2]) #author ID"
   ]
  },
  {
   "cell_type": "code",
   "execution_count": 44,
   "metadata": {},
   "outputs": [
    {
     "name": "stdout",
     "output_type": "stream",
     "text": [
      "looking up Katie Allen (57858657800)...\n",
      "found 1 publications between 2013 and now\n",
      "['85136569317']\n",
      "gathering citations\n"
     ]
    },
    {
     "ename": "Scopus403Error",
     "evalue": "Requestor configuration settings insufficient for access to this resource.",
     "output_type": "error",
     "traceback": [
      "\u001b[1;31m---------------------------------------------------------------------------\u001b[0m",
      "\u001b[1;31mScopus403Error\u001b[0m                            Traceback (most recent call last)",
      "Cell \u001b[1;32mIn[44], line 23\u001b[0m\n\u001b[0;32m     19\u001b[0m \u001b[39melse\u001b[39;00m:\n\u001b[0;32m     20\u001b[0m     \u001b[39m# get all citations data\u001b[39;00m\n\u001b[0;32m     21\u001b[0m     author_details \u001b[39m=\u001b[39m (lastname, firstname, mem_id)\n\u001b[1;32m---> 23\u001b[0m     citations_data \u001b[39m=\u001b[39m get_all_citations(adjusted_docs)\n\u001b[0;32m     24\u001b[0m     author_citations \u001b[39m=\u001b[39m [[citation[year][\u001b[39m1\u001b[39m] \u001b[39mfor\u001b[39;00m year \u001b[39min\u001b[39;00m \u001b[39mrange\u001b[39m(YEARS_INCLUDED)] \u001b[39mfor\u001b[39;00m citation \u001b[39min\u001b[39;00m citations_data]\n\u001b[0;32m     25\u001b[0m     all_citations \u001b[39m=\u001b[39m all_citations \u001b[39m+\u001b[39m author_citations \u001b[39m#all citations keeps track of all the citations in the whole document\u001b[39;00m\n",
      "Cell \u001b[1;32mIn[23], line 13\u001b[0m, in \u001b[0;36mget_all_citations\u001b[1;34m(documents)\u001b[0m\n\u001b[0;32m     11\u001b[0m \u001b[39mif\u001b[39;00m pages \u001b[39m==\u001b[39m \u001b[39m0\u001b[39m:\n\u001b[0;32m     12\u001b[0m     \u001b[39mprint\u001b[39m(\u001b[39mf\u001b[39m\u001b[39m\"\u001b[39m\u001b[39mgathering citations\u001b[39m\u001b[39m\"\u001b[39m)\n\u001b[1;32m---> 13\u001b[0m     co \u001b[39m=\u001b[39m CitationOverview(scopus_id_list, start\u001b[39m=\u001b[39;49mSTART_YEAR, end\u001b[39m=\u001b[39;49mEND_YEAR)\n\u001b[0;32m     14\u001b[0m     yearly_citations_data \u001b[39m=\u001b[39m co\u001b[39m.\u001b[39mcc\n\u001b[0;32m     15\u001b[0m \u001b[39melif\u001b[39;00m \u001b[39mlen\u001b[39m(documents)\u001b[39m%\u001b[39m\u001b[39m25\u001b[39m \u001b[39m==\u001b[39m \u001b[39m0\u001b[39m:\n\u001b[0;32m     16\u001b[0m     \u001b[39m# urls = []\u001b[39;00m\n",
      "File \u001b[1;32mc:\\Users\\caoyut\\.conda\\envs\\authorlookup\\lib\\site-packages\\pybliometrics\\scopus\\abstract_citation.py:275\u001b[0m, in \u001b[0;36mCitationOverview.__init__\u001b[1;34m(self, identifier, start, end, id_type, eid, refresh, citation, **kwds)\u001b[0m\n\u001b[0;32m    273\u001b[0m kwds\u001b[39m.\u001b[39mupdate({id_type: identifier})\n\u001b[0;32m    274\u001b[0m stem \u001b[39m=\u001b[39m md5(\u001b[39m\"\u001b[39m\u001b[39m_\u001b[39m\u001b[39m\"\u001b[39m\u001b[39m.\u001b[39mjoin(identifier)\u001b[39m.\u001b[39mencode(\u001b[39m'\u001b[39m\u001b[39mutf8\u001b[39m\u001b[39m'\u001b[39m))\u001b[39m.\u001b[39mhexdigest()\n\u001b[1;32m--> 275\u001b[0m Retrieval\u001b[39m.\u001b[39m\u001b[39m__init__\u001b[39m(\u001b[39mself\u001b[39m, stem, api\u001b[39m=\u001b[39m\u001b[39m'\u001b[39m\u001b[39mCitationOverview\u001b[39m\u001b[39m'\u001b[39m, date\u001b[39m=\u001b[39mdate,\n\u001b[0;32m    276\u001b[0m                    citation\u001b[39m=\u001b[39mcitation, \u001b[39m*\u001b[39m\u001b[39m*\u001b[39mkwds)\n\u001b[0;32m    277\u001b[0m \u001b[39mself\u001b[39m\u001b[39m.\u001b[39m_data \u001b[39m=\u001b[39m \u001b[39mself\u001b[39m\u001b[39m.\u001b[39m_json[\u001b[39m'\u001b[39m\u001b[39mabstract-citations-response\u001b[39m\u001b[39m'\u001b[39m]\n\u001b[0;32m    279\u001b[0m \u001b[39m# citeInfoMatrix\u001b[39;00m\n",
      "File \u001b[1;32mc:\\Users\\caoyut\\.conda\\envs\\authorlookup\\lib\\site-packages\\pybliometrics\\scopus\\superclasses\\retrieval.py:48\u001b[0m, in \u001b[0;36mRetrieval.__init__\u001b[1;34m(self, identifier, api, id_type, **kwds)\u001b[0m\n\u001b[0;32m     46\u001b[0m \u001b[39m# Parse file contents\u001b[39;00m\n\u001b[0;32m     47\u001b[0m params \u001b[39m=\u001b[39m {\u001b[39m'\u001b[39m\u001b[39mview\u001b[39m\u001b[39m'\u001b[39m: \u001b[39mself\u001b[39m\u001b[39m.\u001b[39m_view, \u001b[39m*\u001b[39m\u001b[39m*\u001b[39mkwds}\n\u001b[1;32m---> 48\u001b[0m Base\u001b[39m.\u001b[39;49m\u001b[39m__init__\u001b[39;49m(\u001b[39mself\u001b[39;49m, params\u001b[39m=\u001b[39;49mparams, url\u001b[39m=\u001b[39;49murl, api\u001b[39m=\u001b[39;49mapi)\n",
      "File \u001b[1;32mc:\\Users\\caoyut\\.conda\\envs\\authorlookup\\lib\\site-packages\\pybliometrics\\scopus\\superclasses\\base.py:60\u001b[0m, in \u001b[0;36mBase.__init__\u001b[1;34m(self, params, url, api, download, verbose, *args, **kwds)\u001b[0m\n\u001b[0;32m     58\u001b[0m         \u001b[39mself\u001b[39m\u001b[39m.\u001b[39m_json \u001b[39m=\u001b[39m loads(fname\u001b[39m.\u001b[39mread_text())\n\u001b[0;32m     59\u001b[0m \u001b[39melse\u001b[39;00m:\n\u001b[1;32m---> 60\u001b[0m     resp \u001b[39m=\u001b[39m get_content(url, api, params, \u001b[39m*\u001b[39margs, \u001b[39m*\u001b[39m\u001b[39m*\u001b[39mkwds)\n\u001b[0;32m     61\u001b[0m     header \u001b[39m=\u001b[39m resp\u001b[39m.\u001b[39mheaders\n\u001b[0;32m     62\u001b[0m     \u001b[39mif\u001b[39;00m search_request:\n\u001b[0;32m     63\u001b[0m         \u001b[39m# Get number of results\u001b[39;00m\n",
      "File \u001b[1;32mc:\\Users\\caoyut\\.conda\\envs\\authorlookup\\lib\\site-packages\\pybliometrics\\scopus\\utils\\get_content.py:116\u001b[0m, in \u001b[0;36mget_content\u001b[1;34m(url, api, params, **kwds)\u001b[0m\n\u001b[0;32m    114\u001b[0m         \u001b[39mexcept\u001b[39;00m:\n\u001b[0;32m    115\u001b[0m             reason \u001b[39m=\u001b[39m \u001b[39m\"\u001b[39m\u001b[39m\"\u001b[39m\n\u001b[1;32m--> 116\u001b[0m     \u001b[39mraise\u001b[39;00m errors[resp\u001b[39m.\u001b[39mstatus_code](reason)\n\u001b[0;32m    117\u001b[0m \u001b[39mexcept\u001b[39;00m \u001b[39mKeyError\u001b[39;00m:\n\u001b[0;32m    118\u001b[0m     resp\u001b[39m.\u001b[39mraise_for_status()\n",
      "\u001b[1;31mScopus403Error\u001b[0m: Requestor configuration settings insufficient for access to this resource."
     ]
    }
   ],
   "source": [
    "output_dict = {f\"{col_name}\":[] for col_name in output_cols}\n",
    "\n",
    "for member in member_arr_filtered:\n",
    "    sleep(1)\n",
    "    lastname = member[1]\n",
    "    firstname = member[2]\n",
    "    mem_id = member[4]\n",
    "\n",
    "    print(f\"looking up {firstname} {lastname} ({mem_id})...\")\n",
    "    documents = AuthorRetrieval(mem_id).get_documents()\n",
    "\n",
    "    #get documents that are older than PUBLICATION CUTOFF YEAR\n",
    "    adjusted_docs = [document for document in documents if int(document.coverDate.split(\"-\")[0]) >= PUBLICATION_CUTOFF_YEAR]\n",
    "    print(f\"found {len(adjusted_docs)} publications between {PUBLICATION_CUTOFF_YEAR} and now\")\n",
    "\n",
    "    if len(adjusted_docs) == 0:\n",
    "        print(\"no documents found in year range\")\n",
    "        continue\n",
    "    else:\n",
    "        # get all citations data\n",
    "        author_details = (lastname, firstname, mem_id)\n",
    "        \n",
    "        citations_data = get_all_citations(adjusted_docs)\n",
    "        author_citations = [[citation[year][1] for year in range(YEARS_INCLUDED)] for citation in citations_data]\n",
    "        all_citations = all_citations + author_citations #all citations keeps track of all the citations in the whole document\n",
    "        \n",
    "        fill_article_rows(author_details, adjusted_docs, output_dict)\n",
    "        print(\"done\\n\")\n"
   ]
  },
  {
   "cell_type": "code",
   "execution_count": 39,
   "metadata": {},
   "outputs": [
    {
     "name": "stdout",
     "output_type": "stream",
     "text": [
      "title: 332\n",
      "eid: 332\n",
      "publication year: 332\n",
      "authors: 332\n",
      "last name: 332\n",
      "first name: 332\n",
      "member id: 332\n"
     ]
    },
    {
     "ename": "KeyError",
     "evalue": "'citations'",
     "output_type": "error",
     "traceback": [
      "\u001b[1;31m---------------------------------------------------------------------------\u001b[0m",
      "\u001b[1;31mKeyError\u001b[0m                                  Traceback (most recent call last)",
      "Cell \u001b[1;32mIn[39], line 3\u001b[0m\n\u001b[0;32m      1\u001b[0m \u001b[39mfor\u001b[39;00m key \u001b[39min\u001b[39;00m output_dict:\n\u001b[0;32m      2\u001b[0m     \u001b[39mprint\u001b[39m(\u001b[39mf\u001b[39m\u001b[39m\"\u001b[39m\u001b[39m{\u001b[39;00mkey\u001b[39m}\u001b[39;00m\u001b[39m: \u001b[39m\u001b[39m{\u001b[39;00m\u001b[39mlen\u001b[39m(output_dict[key])\u001b[39m}\u001b[39;00m\u001b[39m\"\u001b[39m)\n\u001b[1;32m----> 3\u001b[0m \u001b[39mdel\u001b[39;00m output_dict[\u001b[39m\"\u001b[39m\u001b[39mcitations\u001b[39m\u001b[39m\"\u001b[39m]\n\u001b[0;32m      4\u001b[0m df \u001b[39m=\u001b[39m pd\u001b[39m.\u001b[39mDataFrame(output_dict)\n\u001b[0;32m      5\u001b[0m df\u001b[39m.\u001b[39mto_csv(\u001b[39m\"\u001b[39m\u001b[39monly_documents.csv\u001b[39m\u001b[39m\"\u001b[39m)\n",
      "\u001b[1;31mKeyError\u001b[0m: 'citations'"
     ]
    }
   ],
   "source": [
    "for key in output_dict:\n",
    "    print(f\"{key}: {len(output_dict[key])}\")\n",
    "del output_dict[\"citations\"]\n",
    "df = pd.DataFrame(output_dict)\n",
    "df.to_csv(\"only_documents.csv\")"
   ]
  },
  {
   "cell_type": "code",
   "execution_count": 43,
   "metadata": {},
   "outputs": [
    {
     "name": "stdout",
     "output_type": "stream",
     "text": [
      "title: 332\n",
      "eid: 332\n",
      "publication year: 332\n",
      "authors: 332\n",
      "last name: 332\n",
      "first name: 332\n",
      "member id: 332\n",
      "all publications searched\n",
      "title: 332\n",
      "eid: 332\n",
      "publication year: 332\n",
      "authors: 332\n",
      "last name: 332\n",
      "first name: 332\n",
      "member id: 332\n",
      "['2-s2.0-85136569317', '2-s2.0-85165664158', '2-s2.0-85163799375', '2-s2.0-85158872458', '2-s2.0-85149406763', '2-s2.0-85146083826', '2-s2.0-85144146495', '2-s2.0-85143210306', '2-s2.0-85145751835', '2-s2.0-85144022950', '2-s2.0-85144019969', '2-s2.0-85140252179', '2-s2.0-85139203605', '2-s2.0-85163880733', '2-s2.0-85147875845', '2-s2.0-85144526088', '2-s2.0-85142273608', '2-s2.0-85145716829', '2-s2.0-85138282295', '2-s2.0-85135147933', '2-s2.0-85169617133', '2-s2.0-85164561012', '2-s2.0-85158871020', '2-s2.0-85139714752', '2-s2.0-85138060246', '2-s2.0-85143318375', '2-s2.0-85137532569', '2-s2.0-85138017104', '2-s2.0-85133414189', '2-s2.0-85128980507', '2-s2.0-85128304366', '2-s2.0-85133919950', '2-s2.0-85133819389', '2-s2.0-85133776304', '2-s2.0-85113754815', '2-s2.0-85124818055', '2-s2.0-85109343983', '2-s2.0-85122270341', '2-s2.0-85119968774', '2-s2.0-85119040837', '2-s2.0-85111375843', '2-s2.0-85109113826', '2-s2.0-85110709413', '2-s2.0-85115760152', '2-s2.0-85115223347', '2-s2.0-85114738893', '2-s2.0-85096708795', '2-s2.0-85103962124', '2-s2.0-85103888269', '2-s2.0-85100290313', '2-s2.0-85099191536', '2-s2.0-85094198818', '2-s2.0-85094187274', '2-s2.0-85098324343', '2-s2.0-85091369309', '2-s2.0-85087870409', '2-s2.0-85087685056', '2-s2.0-85079733078', '2-s2.0-85087868225', '2-s2.0-85085904313', '2-s2.0-85075037808', '2-s2.0-85074826631', '2-s2.0-85074810690', '2-s2.0-85140372051', '2-s2.0-85067869429', '2-s2.0-85066898971', '2-s2.0-85073664685', '2-s2.0-85070885392', '2-s2.0-85055592320', '2-s2.0-85060542512', '2-s2.0-85061239447', '2-s2.0-85065397754', '2-s2.0-85065088674', '2-s2.0-85063279819', '2-s2.0-85058754439', '2-s2.0-85049802812', '2-s2.0-85042148047', '2-s2.0-85045135026', '2-s2.0-85044446842', '2-s2.0-85043522568', '2-s2.0-85020739547', '2-s2.0-85011883735', '2-s2.0-85020621204', '2-s2.0-84994234385', '2-s2.0-84994068269', '2-s2.0-85030212688', '2-s2.0-84992463392', '2-s2.0-84979581712', '2-s2.0-84968531272', '2-s2.0-84988358564', '2-s2.0-84975473125', '2-s2.0-84949510724', '2-s2.0-84938867881', '2-s2.0-84959553683', '2-s2.0-84955677644', '2-s2.0-84959338941', '2-s2.0-84941261524', '2-s2.0-84952630189', '2-s2.0-84924985571', '2-s2.0-84922600381', '2-s2.0-84911990473', '2-s2.0-84899757622', '2-s2.0-84908244597', '2-s2.0-84899946024', '2-s2.0-84897116608', '2-s2.0-84888133941', '2-s2.0-84885474675', '2-s2.0-84883884658', '2-s2.0-84879782101', '2-s2.0-84879774278', '2-s2.0-85049180426', '2-s2.0-85016173134', '2-s2.0-85069588959', '2-s2.0-84925637035', '2-s2.0-84883654019', '2-s2.0-85124614542', '2-s2.0-85143762496', '2-s2.0-85098932610', '2-s2.0-85088528662', '2-s2.0-85059531695', '2-s2.0-85059354106', '2-s2.0-85064894235', '2-s2.0-85037156168', '2-s2.0-85049383587', '2-s2.0-85021757773', '2-s2.0-85019753129', '2-s2.0-84990189769', '2-s2.0-84996508212', '2-s2.0-85038129880', '2-s2.0-84945496267', '2-s2.0-84945459390', '2-s2.0-84941247443', '2-s2.0-84940861663', '2-s2.0-84925482184', '2-s2.0-84927695839', '2-s2.0-84923077204', '2-s2.0-84925130699', '2-s2.0-84931416879', '2-s2.0-84907516411', '2-s2.0-84903821470', '2-s2.0-84902504072', '2-s2.0-84899918742', '2-s2.0-84894360362', '2-s2.0-84883465830', '2-s2.0-84883192652', '2-s2.0-84880308447', '2-s2.0-84874438332', '2-s2.0-85068784312', '2-s2.0-85068777249', '2-s2.0-85068766231', '2-s2.0-85148966283', '2-s2.0-85135803331', '2-s2.0-85112544370', '2-s2.0-85108787237', '2-s2.0-85096387025', '2-s2.0-85089979798', '2-s2.0-85089301156', '2-s2.0-85076523922', '2-s2.0-85062331271', '2-s2.0-85069203489', '2-s2.0-85014422985', '2-s2.0-84971528850', '2-s2.0-84927911287', '2-s2.0-84927701115', '2-s2.0-85024493048', '2-s2.0-84873883851', '2-s2.0-85163724449', '2-s2.0-85124810300', '2-s2.0-85112558408', '2-s2.0-85085477924', '2-s2.0-85076317124', '2-s2.0-85020070812', '2-s2.0-85060347156', '2-s2.0-85059699354', '2-s2.0-85027983208', '2-s2.0-85008951025', '2-s2.0-84959871208', '2-s2.0-84976632105', '2-s2.0-84949431477', '2-s2.0-84934914822', '2-s2.0-84934963511', '2-s2.0-84922962770', '2-s2.0-84908263148', '2-s2.0-84925714514', '2-s2.0-84928336997', '2-s2.0-84887324652', '2-s2.0-84884283816', '2-s2.0-84884144854', '2-s2.0-84884412831', '2-s2.0-85147226242', '2-s2.0-85136460506', '2-s2.0-85108417362', '2-s2.0-85057252846', '2-s2.0-85048286119', '2-s2.0-85020346243', '2-s2.0-84999723674', '2-s2.0-84992367876', '2-s2.0-84904057781', '2-s2.0-85120678378', '2-s2.0-85078592002', '2-s2.0-85067566894', '2-s2.0-84901650910', '2-s2.0-85125569729', '2-s2.0-85122276353', '2-s2.0-85084396481', '2-s2.0-85089348948', '2-s2.0-85052296965', '2-s2.0-84870248595', '2-s2.0-85134654176', '2-s2.0-85112297521', '2-s2.0-85153652820', '2-s2.0-85080921342', '2-s2.0-85043701150', '2-s2.0-85079914638', '2-s2.0-85034081957', '2-s2.0-84879486889', '2-s2.0-84920596977', '2-s2.0-85164282374', '2-s2.0-85160310590', '2-s2.0-85160293330', '2-s2.0-85151388396', '2-s2.0-85143694812', '2-s2.0-85135287847', '2-s2.0-85105715486', '2-s2.0-85085533191', '2-s2.0-85079841876', '2-s2.0-85073350027', '2-s2.0-85073041743', '2-s2.0-85060613573', '2-s2.0-85052831247', '2-s2.0-85052793629', '2-s2.0-84939543954', '2-s2.0-84928311270', '2-s2.0-85063734162', '2-s2.0-85016758476', '2-s2.0-85117104847', '2-s2.0-85123255394', '2-s2.0-85169399616', '2-s2.0-85166109122', '2-s2.0-85138618122', '2-s2.0-85102430241', '2-s2.0-85129962850', '2-s2.0-85132424534', '2-s2.0-85129913244', '2-s2.0-85129000840', '2-s2.0-85125552800', '2-s2.0-85112780954', '2-s2.0-85111007098', '2-s2.0-85115911302', '2-s2.0-85086049243', '2-s2.0-85082698983', '2-s2.0-85075121010', '2-s2.0-85072372282', '2-s2.0-85066120145', '2-s2.0-85055531569', '2-s2.0-85056463548', '2-s2.0-85057880941', '2-s2.0-85134997842', '2-s2.0-85110122182', '2-s2.0-85058106029', '2-s2.0-85053217636', '2-s2.0-85043374399', '2-s2.0-85045752989', '2-s2.0-85028694472', '2-s2.0-85028008878', '2-s2.0-85020060427', '2-s2.0-85018420466', '2-s2.0-85007170420', '2-s2.0-84992489273', '2-s2.0-85037554935', '2-s2.0-85008612492', '2-s2.0-84991717418', '2-s2.0-84968853485', '2-s2.0-84943655626', '2-s2.0-84969779504', '2-s2.0-84958177917', '2-s2.0-84957866383', '2-s2.0-84950325461', '2-s2.0-84946831332', '2-s2.0-84937913868', '2-s2.0-84927696984', '2-s2.0-84924338951', '2-s2.0-84919439909', '2-s2.0-84914125151', '2-s2.0-85065249174', '2-s2.0-84903280081', '2-s2.0-84896705577', '2-s2.0-84903535687', '2-s2.0-84888427873', '2-s2.0-84887436090', '2-s2.0-84882863202', '2-s2.0-84883559165', '2-s2.0-84877720521', '2-s2.0-84877341145', '2-s2.0-84874256328', '2-s2.0-84874094484', '2-s2.0-84872674285', '2-s2.0-84872661725', '2-s2.0-85164754477', '2-s2.0-85131354717', '2-s2.0-85116099592', '2-s2.0-85100515445', '2-s2.0-85071559603', '2-s2.0-85083981094', '2-s2.0-85047805423', '2-s2.0-85066730464', '2-s2.0-85020121834', '2-s2.0-84938303905', '2-s2.0-85147774312', '2-s2.0-85126476398', '2-s2.0-84904253781', '2-s2.0-85162208350', '2-s2.0-85164287820', '2-s2.0-85133381797', '2-s2.0-85109435359', '2-s2.0-85117694801', '2-s2.0-85113276440', '2-s2.0-85101276247', '2-s2.0-85077578767', '2-s2.0-85067375996', '2-s2.0-85054435570', '2-s2.0-85051851798', '2-s2.0-85021406946', '2-s2.0-85032168848', '2-s2.0-84975799376', '2-s2.0-84961289369', '2-s2.0-84926374530', '2-s2.0-84926389854', '2-s2.0-84904736478', '2-s2.0-84889059035', '2-s2.0-84871922901', '2-s2.0-84922095812']\n"
     ]
    }
   ],
   "source": [
    "for key in output_dict:\n",
    "    print(f\"{key}: {len(output_dict[key])}\")\n",
    "\n",
    "output_dict, eids = remove_duplicate_pubs(output_dict)\n",
    "\n",
    "for key in output_dict:\n",
    "    print(f\"{key}: {len(output_dict[key])}\")\n",
    "\n",
    "print(eids)"
   ]
  },
  {
   "cell_type": "code",
   "execution_count": null,
   "metadata": {},
   "outputs": [],
   "source": [
    "citations_array = np.array(all_citations)\n",
    "citations_array = citations_array.T\n",
    "\n",
    "# check that all the columns have the same length\n",
    "for key in output_dict:\n",
    "    print(f\"{key}: {len(output_dict[key])}\")\n",
    "\n",
    "# add citations of each year to the citations dictionary\n",
    "for year in range(YEARS_INCLUDED):\n",
    "    year_col = START_YEAR + year\n",
    "    print(year_col)\n",
    "    output_dict[str(year_col)] = citations_array[year].tolist()\n",
    "\n",
    "# check that all the columns have the same length\n",
    "for key in output_dict:\n",
    "    print(f\"{key}: {len(output_dict[key])}\")\n",
    "\n",
    "df = pd.DataFrame(output_dict)\n",
    "df.to_csv(\"citations_per_year_psychiatry.csv\")"
   ]
  },
  {
   "cell_type": "markdown",
   "metadata": {},
   "source": [
    "yes irp distinction"
   ]
  },
  {
   "cell_type": "code",
   "execution_count": null,
   "metadata": {},
   "outputs": [],
   "source": [
    "def fill_article_rows(lastname, firstname, mem_id, mem_irp, documents):\n",
    "    for document in documents:\n",
    "        titles.append(document.title)\n",
    "        eids.append(document.eid)\n",
    "        articles_authors.append(document.author_names)\n",
    "        publication_years.append(document.coverDate.split(\"-\")[0])\n",
    "        member_lastnames.append(lastname)\n",
    "        member_firstnames.append(firstname)\n",
    "        member_ids.append(mem_id)\n",
    "        member_irps.append(mem_irp)"
   ]
  },
  {
   "cell_type": "code",
   "execution_count": null,
   "metadata": {},
   "outputs": [],
   "source": [
    "titles = []\n",
    "eids = []\n",
    "# scopus_urls = []\n",
    "api_urls = []\n",
    "publication_years = []\n",
    "articles_authors = []\n",
    "\n",
    "member_lastnames = []\n",
    "member_firstnames = []\n",
    "member_ids = []\n",
    "member_irps = []\n",
    "\n",
    "all_citations = []\n",
    "\n",
    "\n",
    "for member in member_arr:\n",
    "    sleep(1)\n",
    "    lastname = member[0]\n",
    "    firstname = member[1]\n",
    "    mem_id = member[3]\n",
    "    mem_irp = member[5]\n",
    "\n",
    "    print(f\"looking up {firstname} {lastname} ({mem_id}) in {mem_irp} IRP...\")\n",
    "\n",
    "    documents = AuthorRetrieval(mem_id).get_documents()\n",
    "\n",
    "    #get documents that are older than PUBLICATION CUTOFF YEAR\n",
    "    adjusted_docs = [document for document in documents if int(document.coverDate.split(\"-\")[0]) >= PUBLICATION_CUTOFF_YEAR]\n",
    "\n",
    "    print(f\"found {len(adjusted_docs)} publications between {PUBLICATION_CUTOFF_YEAR} and now\")\n",
    "    \n",
    "    if len(adjusted_docs) == 0:\n",
    "        print(\"no documents found in year range\")\n",
    "        pass\n",
    "    else:\n",
    "        citations_data = get_all_citations(adjusted_docs, all_citations)\n",
    "        author_citations = [[citation[year][1] for year in range(YEARS_INCLUDED)] for citation in citations_data]\n",
    "        all_citations = all_citations + author_citations\n",
    "\n",
    "        fill_article_rows(lastname, firstname, mem_id, mem_irp, adjusted_docs)\n",
    "        print(\"done\\n\")"
   ]
  },
  {
   "cell_type": "code",
   "execution_count": null,
   "metadata": {},
   "outputs": [],
   "source": []
  },
  {
   "cell_type": "code",
   "execution_count": null,
   "metadata": {},
   "outputs": [],
   "source": [
    "print(api_urls)\n",
    "#  https://api.elsevier.com/content/abstract/scopus_id/"
   ]
  },
  {
   "cell_type": "code",
   "execution_count": null,
   "metadata": {},
   "outputs": [],
   "source": [
    "csv_dict = {\n",
    "    \"title\": titles,\n",
    "    \"eid\": eids,\n",
    "    \"publication year\": publication_years,\n",
    "    \"authors\": articles_authors,\n",
    "    \n",
    "    \"last name\": member_lastnames,\n",
    "    \"first name\": member_firstnames,\n",
    "    \"member id\": member_ids, \n",
    "}\n",
    "\n",
    "citations_array = np.array(all_citations)\n",
    "citations_array = citations_array.T\n",
    "\n",
    "for key in csv_dict:\n",
    "    print(f\"{key}: {len(csv_dict[key])}\")\n",
    "\n",
    "for year in range(YEARS_INCLUDED):\n",
    "    year_col = START_YEAR + year\n",
    "    print(year_col)\n",
    "    csv_dict[str(year_col)] = citations_array[year].tolist()\n",
    "\n",
    "for key in csv_dict:\n",
    "    print(f\"{key}: {len(csv_dict[key])}\")\n",
    "\n",
    "df = pd.DataFrame(csv_dict)\n",
    "df.to_csv(\"citations_per_year_psychiatry.csv\")"
   ]
  },
  {
   "cell_type": "code",
   "execution_count": null,
   "metadata": {},
   "outputs": [],
   "source": [
    "documents = AuthorRetrieval(36653563400).get_documents()\n",
    "docs_eids = AuthorRetrieval(36653563400).get_document_eids()\n",
    "# for document in documents:\n",
    "    "
   ]
  },
  {
   "cell_type": "code",
   "execution_count": null,
   "metadata": {},
   "outputs": [],
   "source": [
    "#print(docs_eids)\n",
    "for document in documents:\n",
    "    print(document.coverDate)\n",
    "\n",
    "adjusted_docs = [document for document in documents if int(document.coverDate.split(\"-\")[0]) >= PUBLICATION_CUTOFF_YEAR]\n",
    "print(adjusted_docs)\n",
    "scopus_id_list = [eid.split(\"-\",2)[2] for eid in docs_eids]\n",
    "print(scopus_id_list)"
   ]
  },
  {
   "cell_type": "code",
   "execution_count": null,
   "metadata": {},
   "outputs": [],
   "source": [
    "print()"
   ]
  },
  {
   "cell_type": "code",
   "execution_count": null,
   "metadata": {},
   "outputs": [],
   "source": [
    "co = CitationOverview(scopus_id_list[0:25], start=2018, end=2023)"
   ]
  },
  {
   "cell_type": "code",
   "execution_count": null,
   "metadata": {},
   "outputs": [],
   "source": [
    "article_yeardata = co.cc"
   ]
  },
  {
   "cell_type": "code",
   "execution_count": null,
   "metadata": {},
   "outputs": [],
   "source": [
    "co2 = CitationOverview(scopus_id_list[25:], start=2018, end=2023)\n",
    "print(co2.cc)"
   ]
  },
  {
   "cell_type": "code",
   "execution_count": null,
   "metadata": {},
   "outputs": [],
   "source": [
    "all_citations = co.cc + co2.cc\n",
    "#print(len(documents))\n",
    "#print(documents[25:50])\n",
    "#print(len(documents[25:50]))\n",
    "print(all_citations[0])\n",
    "print(all_citations[0][5][1])\n",
    "print(YEARS_INCLUDED)\n",
    "print([[citation[year][1] for year in range(YEARS_INCLUDED)] for citation in all_citations])\n",
    "\n",
    "print(len([[[citation[year][1]] for year in range(YEARS_INCLUDED)] for citation in all_citations]))"
   ]
  },
  {
   "cell_type": "code",
   "execution_count": null,
   "metadata": {},
   "outputs": [],
   "source": [
    "citation_test = np.array([[citation[year][1] for year in range(YEARS_INCLUDED)] for citation in all_citations])\n",
    "print(citation_test.T)\n",
    "dict = {\"a\":0}\n",
    "dict[f\"{START_YEAR}\"] = citation_test[0].tolist()\n",
    "print(dict)"
   ]
  },
  {
   "cell_type": "code",
   "execution_count": null,
   "metadata": {},
   "outputs": [],
   "source": [
    "API_KEY = os.getenv(\"OFFICIAL_API_KEY\")\n",
    "API_COUNT = 25\n",
    "header = {\n",
    "    \"X-ELS-APIKey\": API_KEY,\n",
    "}\n",
    "api_url = \"https://api.elsevier.com/content/search/scopus?\"\n",
    "\n",
    "def get_api_json(query: str, start=0):\n",
    "    params = {\n",
    "        \"query\":query,\n",
    "    }\n",
    "    try:\n",
    "        response = requests.get(url=api_url, params=params, headers=header)\n",
    "        response.raise_for_status\n",
    "        data = json.loads(response.text)\n",
    "    except requests.exceptions.HTTPError as e:\n",
    "        print(\"HTTPS error: \", e)\n",
    "    except requests.exceptions.RetryError as e:\n",
    "        print(\"Max retries exceeded: \", e)\n",
    "    return data"
   ]
  },
  {
   "cell_type": "code",
   "execution_count": null,
   "metadata": {},
   "outputs": [],
   "source": [
    "query = f\"au-id(36653563400)\"\n",
    "data = get_api_json(query, start=0)\n",
    "print(data)"
   ]
  },
  {
   "cell_type": "code",
   "execution_count": null,
   "metadata": {},
   "outputs": [],
   "source": [
    "query = f\"au-id(36653563400)\"\n",
    "data = get_api_json(query, start=0)\n",
    "print(data)"
   ]
  },
  {
   "cell_type": "code",
   "execution_count": null,
   "metadata": {},
   "outputs": [],
   "source": [
    "data_str = json.dumps(data[\"search-results\"][\"entry\"][0], indent=4)\n",
    "print(data_str)"
   ]
  }
 ],
 "metadata": {
  "kernelspec": {
   "display_name": "authorlookup",
   "language": "python",
   "name": "python3"
  },
  "language_info": {
   "codemirror_mode": {
    "name": "ipython",
    "version": 3
   },
   "file_extension": ".py",
   "mimetype": "text/x-python",
   "name": "python",
   "nbconvert_exporter": "python",
   "pygments_lexer": "ipython3",
   "version": "3.10.13"
  },
  "orig_nbformat": 4
 },
 "nbformat": 4,
 "nbformat_minor": 2
}
