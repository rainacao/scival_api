{
 "cells": [
  {
   "cell_type": "code",
   "execution_count": 16,
   "id": "71be538a-2b12-4e9e-a089-5f119656add7",
   "metadata": {},
   "outputs": [],
   "source": [
    "import os\n",
    "import requests\n",
    "import json\n",
    "import csv\n",
    "import pandas as pd\n",
    "from time import sleep\n",
    "import numpy as np\n",
    "from pybliometrics.scopus import CitationOverview, AuthorRetrieval, AbstractRetrieval"
   ]
  },
  {
   "cell_type": "code",
   "execution_count": 33,
   "id": "e29f00a9-95b1-4543-8306-0135969cd7f0",
   "metadata": {},
   "outputs": [],
   "source": [
    "PATH_TO_INPUT_CSV = \"in/PSYT_vancouver.csv\"\n",
    "PUBLICATION_CUTOFF_YEAR = 2013 #only publications DURING and AFTER this year will be counted\n",
    "START_YEAR = 2018\n",
    "END_YEAR = 2023\n",
    "YEARS_INCLUDED = END_YEAR - START_YEAR + 1 #year range count, inclusive"
   ]
  },
  {
   "cell_type": "code",
   "execution_count": 25,
   "id": "7c2dc2e9-9c79-421d-8911-557dffed2b4b",
   "metadata": {},
   "outputs": [],
   "source": [
    "member_arr = []\n",
    "with open(PATH_TO_INPUT_CSV, \"r\") as f:\n",
    "    r = csv.reader(f)\n",
    "    for row in r:\n",
    "        if row[0] != \"\":\n",
    "            member_arr.append(row)\n",
    "\n",
    "# skip header rows\n",
    "member_arr = member_arr[1:]"
   ]
  },
  {
   "cell_type": "code",
   "execution_count": 26,
   "id": "afda8b4d-73d7-4070-a6a6-cb5e3b8960b6",
   "metadata": {},
   "outputs": [],
   "source": [
    "# prepare columns \n",
    "output_cols = [\"title\", \"eid\", \"publication year\", \"authors\", \"last name\", \"first name\", \"member id\"]"
   ]
  },
  {
   "cell_type": "code",
   "execution_count": 21,
   "id": "ab3b11a9-521d-46c2-9811-d7095154e9b2",
   "metadata": {},
   "outputs": [],
   "source": [
    "def get_all_citations(documents):\n",
    "    '''return yearly citation data for all documents in a 2d array with rows of documents and cols of years'''\n",
    "    yearly_citations_data = []\n",
    "\n",
    "    #scopus ID is everything after 2nd hyphen for the eid\n",
    "    scopus_id_list = [document.eid.split(\"-\",2)[2] for document in documents]\n",
    "    print(scopus_id_list)\n",
    "\n",
    "    pages = int(len(documents)/25)\n",
    "    \n",
    "    if pages == 0:\n",
    "        print(f\"gathering citations\")\n",
    "        co = CitationOverview(scopus_id_list, start=START_YEAR, end=END_YEAR)\n",
    "        yearly_citations_data = co.cc\n",
    "    elif len(documents)%25 == 0:\n",
    "        # urls = []\n",
    "        for page in range(pages):\n",
    "            print(f\"gathering citations for page {page}/{pages-1}\")\n",
    "            list_per_page = scopus_id_list[(25*page):(25*(page+1))]\n",
    "            co = CitationOverview(list_per_page, start=START_YEAR, end=END_YEAR)\n",
    "            yearly_citations_data = yearly_citations_data + co.cc\n",
    "            # urls = urls + co.url\n",
    "    else:\n",
    "        # urls = []\n",
    "        for page in range(pages+1):\n",
    "            print(f\"gathering citations for page {page}/{pages}\")\n",
    "            list_per_page = scopus_id_list[(25*page):(25*(page+1))]\n",
    "            co = CitationOverview(list_per_page, start=START_YEAR, end=END_YEAR)\n",
    "            yearly_citations_data = yearly_citations_data + co.cc\n",
    "            # urls = urls + co.url\n",
    "        \n",
    "    return yearly_citations_data"
   ]
  },
  {
   "cell_type": "code",
   "execution_count": 35,
   "id": "ecae88a3-c182-4db7-bb67-b27b8762491a",
   "metadata": {
    "scrolled": true
   },
   "outputs": [
    {
     "name": "stdout",
     "output_type": "stream",
     "text": [
      "['17', 'Allen', 'Katie', \"BC\\u200b Children\\u200b'\\u200b\\u200bs Hospital\", '57858657800', '', 'MEDI (1); PSYC (1)', '']\n",
      "281\n"
     ]
    }
   ],
   "source": [
    "member_arr_filtered = [row for row in member_arr if row[4] != \"\"]\n",
    "print(member_arr_filtered[0])\n",
    "print(len(member_arr_filtered))"
   ]
  },
  {
   "cell_type": "code",
   "execution_count": 14,
   "id": "645c93b4-e6f6-41ae-9721-3578c136aaf2",
   "metadata": {},
   "outputs": [],
   "source": [
    "def remove_duplicate_pubs(out_arr):\n",
    "    eids = []\n",
    "    new_arr = []\n",
    "    for i in range(len(out_arr)):\n",
    "        current_eid = out_arr[i][2]\n",
    "        if current_eid in eids:\n",
    "            pass\n",
    "        else:\n",
    "            new_arr.append(out_arr[i])\n",
    "            eids.append(current_eid)\n",
    "    print(\"all publications searched\")\n",
    "    return new_arr, eids\n",
    "\n",
    "# def remove_duplicate_pubs(out_dict):\n",
    "#     eids = []\n",
    "#     for i in range(len(out_dict[output_cols[0]])):\n",
    "#         current_eid = out_dict[\"eid\"][i]\n",
    "#         if current_eid in eids:\n",
    "#             #remove everything in that row\n",
    "#             for key in out_dict.keys():\n",
    "#                 # print(\"duplicate found\")\n",
    "#                 out_dict[key].pop(i)\n",
    "#         else:\n",
    "#             eids.append(current_eid)\n",
    "#     print(\"all publications searched\")\n",
    "#     return out_dict, eids"
   ]
  },
  {
   "cell_type": "code",
   "execution_count": 15,
   "id": "fb82d373-9ea6-4ce4-84c2-8a65a9892260",
   "metadata": {},
   "outputs": [],
   "source": [
    "def fill_article_rows(author_details:tuple, documents, dict):\n",
    "    '''author_details are (lastname, firstname, author ID)'''\n",
    "    for document in documents:\n",
    "        dict[output_cols[0]].append(document.title) #title\n",
    "        dict[output_cols[1]].append(document.eid) #eid\n",
    "        dict[output_cols[2]].append(document.coverDate.split(\"-\")[0]) #publication date\n",
    "        dict[output_cols[3]].append(document.author_names) #author names\n",
    "        dict[output_cols[4]].append(author_details[0]) #last name\n",
    "        dict[output_cols[5]].append(author_details[1]) #first name\n",
    "        dict[output_cols[6]].append(author_details[2]) #author ID"
   ]
  },
  {
   "cell_type": "code",
   "execution_count": null,
   "id": "f8135e16-c82d-46f7-a120-e3dfce5de143",
   "metadata": {
    "scrolled": true
   },
   "outputs": [],
   "source": [
    "output_dict = {f\"{col_name}\":[] for col_name in output_cols}\n",
    "all_citations = []\n",
    "\n",
    "for member in member_arr_filtered:\n",
    "    sleep(1)\n",
    "    lastname = member[1]\n",
    "    firstname = member[2]\n",
    "    mem_id = member[4]\n",
    "\n",
    "    print(f\"looking up {firstname} {lastname} ({mem_id})...\")\n",
    "    documents = AuthorRetrieval(mem_id).get_documents()\n",
    "\n",
    "    #get documents that are older than PUBLICATION CUTOFF YEAR\n",
    "    adjusted_docs = [document for document in documents if int(document.coverDate.split(\"-\")[0]) >= PUBLICATION_CUTOFF_YEAR]\n",
    "    print(f\"found {len(adjusted_docs)} publications between {PUBLICATION_CUTOFF_YEAR} and now\")\n",
    "\n",
    "    if len(adjusted_docs) == 0:\n",
    "        print(\"no documents found in year range\")\n",
    "        continue\n",
    "    else:\n",
    "        # get all citations data\n",
    "        \n",
    "        citations_data = get_all_citations(adjusted_docs)\n",
    "        author_citations = [[citation[year][1] for year in range(YEARS_INCLUDED)] for citation in citations_data]\n",
    "        all_citations = all_citations + author_citations #all citations keeps track of all the citations in the whole document\n",
    "        \n",
    "        author_details = (lastname, firstname, mem_id)\n",
    "        fill_article_rows(author_details, adjusted_docs, output_dict)\n",
    "        print(\"done\\n\")\n"
   ]
  },
  {
   "cell_type": "code",
   "execution_count": null,
   "id": "62e6aefd-48a9-4d3d-8b7f-8d1c92e6efd1",
   "metadata": {},
   "outputs": [],
   "source": [
    "for key in output_dict:\n",
    "    print(f\"{key}: {len(output_dict[key])}\")\n",
    "    \n",
    "citations_array = np.array(all_citations)\n",
    "citations_array = citations_array.T\n"
   ]
  },
  {
   "cell_type": "code",
   "execution_count": null,
   "id": "bf8e457f-60a4-4568-9686-42850d4e217d",
   "metadata": {},
   "outputs": [],
   "source": []
  },
  {
   "cell_type": "code",
   "execution_count": null,
   "id": "23b1d552-f124-4116-a4a0-0f1400a2d7df",
   "metadata": {},
   "outputs": [],
   "source": [
    "\n",
    "# check that all the columns have the same length\n",
    "for key in output_dict:\n",
    "    print(f\"{key}: {len(output_dict[key])}\")\n",
    "\n",
    "# add citations of each year to the citations dictionary\n",
    "for year in range(YEARS_INCLUDED):\n",
    "    year_col = START_YEAR + year\n",
    "    print(year_col)\n",
    "    output_dict[str(year_col)] = citations_array[year].tolist()\n",
    "\n",
    "# check that all the columns have the same length\n",
    "for key in output_dict:\n",
    "    print(f\"{key}: {len(output_dict[key])}\")\n",
    "\n",
    "df = pd.DataFrame(output_dict)\n",
    "df.to_csv(\"citations_per_year_psychiatry.csv\")"
   ]
  },
  {
   "cell_type": "code",
   "execution_count": null,
   "id": "5915ab62-964e-4d37-8cb1-fc0abcc147f2",
   "metadata": {},
   "outputs": [],
   "source": [
    "for key in output_dict:\n",
    "    print(f\"{key}: {len(output_dict[key])}\")\n",
    "\n",
    "cleaned_output_dict, eids = remove_duplicate_pubs(output_dict)\n",
    "\n",
    "for key in cleaned_output_dict:\n",
    "    print(f\"{key}: {len(cleaned_output_dict[key])}\")\n",
    "\n",
    "df = pd.DataFrame(cleaned_output_dict)\n",
    "df.to_csv(\"cleaned_citations_per_year_psychiatry.csv\")"
   ]
  },
  {
   "cell_type": "code",
   "execution_count": null,
   "id": "8fa119ef-7756-4dad-85a3-451be1f15888",
   "metadata": {},
   "outputs": [],
   "source": [
    "member_arr_filled = []\n",
    "with open(\"citations_per_year_psychiatry.csv\", \"r\") as f:\n",
    "    r = csv.reader(f)\n",
    "    for row in r:\n",
    "        if row[0] != \"\":\n",
    "            member_arr_filled.append(row)\n",
    "\n",
    "# skip header rows\n",
    "citations_header = member_arr_filled[0]\n",
    "member_arr_filled = member_arr_filled[1:]"
   ]
  },
  {
   "cell_type": "code",
   "execution_count": null,
   "id": "9e834e87-6986-4734-9bd6-577d6ee1951f",
   "metadata": {},
   "outputs": [],
   "source": [
    "print(member_arr_filled[0])\n",
    "print(len(member_arr_filled))"
   ]
  },
  {
   "cell_type": "code",
   "execution_count": null,
   "id": "0c68261c-c371-4486-9df6-dee5e9bf5776",
   "metadata": {},
   "outputs": [],
   "source": [
    "no_dupes_arr, eid = remove_duplicate_pubs(member_arr_filled)\n",
    "print(no_dupes_arr[0])\n",
    "print(len(no_dupes_arr))"
   ]
  },
  {
   "cell_type": "code",
   "execution_count": null,
   "id": "c315e4a7-14db-4abe-88df-e0bd6ecfcb2a",
   "metadata": {},
   "outputs": [],
   "source": [
    "with open('PSYT_citations_cleaned.csv', 'w+', newline='') as file:\n",
    "    mywriter = csv.writer(file, delimiter=',')\n",
    "    mywriter.writerows(no_dupes_arr)"
   ]
  },
  {
   "cell_type": "code",
   "execution_count": null,
   "id": "6222539f-f793-4ab2-afa6-757ec856a9b2",
   "metadata": {},
   "outputs": [],
   "source": []
  }
 ],
 "metadata": {
  "kernelspec": {
   "display_name": "Python 3 (ipykernel)",
   "language": "python",
   "name": "python3"
  },
  "language_info": {
   "codemirror_mode": {
    "name": "ipython",
    "version": 3
   },
   "file_extension": ".py",
   "mimetype": "text/x-python",
   "name": "python",
   "nbconvert_exporter": "python",
   "pygments_lexer": "ipython3",
   "version": "3.10.0"
  }
 },
 "nbformat": 4,
 "nbformat_minor": 5
}
